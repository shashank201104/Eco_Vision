{
 "cells": [
  {
   "cell_type": "markdown",
   "id": "f5482ad272e8f41b",
   "metadata": {},
   "source": [
    "### **Author**\n",
    "Shivansh Gupta"
   ]
  },
  {
   "cell_type": "markdown",
   "id": "3f8fe2d6e80e0435",
   "metadata": {},
   "source": [
    "## **Importing All the Modules**\n",
    "\n",
    "- **`YOLO` (from `ultralytics`)**\n",
    "  - Load and run the **YOLOv8 model**.\n",
    "\n",
    "- **`cv2`**\n",
    "  - Read/write images.\n",
    "  - Draw bounding boxes and other shapes.\n",
    "  - Perform color space conversions (e.g., BGR ↔ RGB).\n",
    "\n",
    "- **`numpy as np`**\n",
    "  - Work with image arrays.\n",
    "  - Perform numeric and matrix operations efficiently.\n",
    "\n",
    "- **`typing.List` / `typing.Dict`**\n",
    "  - Add **type annotations** for better code clarity and readability.\n",
    "\n",
    "- **`torch`**\n",
    "  - Detect GPU availability using `torch.cuda.is_available()`.\n",
    "  - Perform tensor operations if needed.\n",
    "\n",
    "- **`os`**\n",
    "  - Read environment variables.\n",
    "  - Check file paths and manage the filesystem."
   ]
  },
  {
   "cell_type": "code",
   "id": "initial_id",
   "metadata": {
    "ExecuteTime": {
     "end_time": "2025-10-02T17:26:27.815892Z",
     "start_time": "2025-10-02T17:26:27.810838Z"
    }
   },
   "source": [
    "import sys\n",
    "\n",
    "from ultralytics import YOLO\n",
    "import cv2\n",
    "import numpy as np\n",
    "from typing import List, Dict\n",
    "import torch"
   ],
   "outputs": [],
   "execution_count": 17
  },
  {
   "metadata": {},
   "cell_type": "markdown",
   "source": [
    "### Loading Environment Variables\n",
    "\n",
    "```python\n",
    "# Load environment variables from a .env file\n"
   ],
   "id": "5003ceafa8dd77bc"
  },
  {
   "metadata": {
    "ExecuteTime": {
     "end_time": "2025-10-02T17:26:27.850862Z",
     "start_time": "2025-10-02T17:26:27.842871Z"
    }
   },
   "cell_type": "code",
   "source": [
    "import os\n",
    "from dotenv import load_dotenv\n",
    "load_dotenv(dotenv_path=r\"D:\\PycharmProjects\\Eco_Vision\\fastApi\\.env\")"
   ],
   "id": "2fc2c6d3bcc58c95",
   "outputs": [
    {
     "data": {
      "text/plain": [
       "True"
      ]
     },
     "execution_count": 18,
     "metadata": {},
     "output_type": "execute_result"
    }
   ],
   "execution_count": 18
  },
  {
   "cell_type": "markdown",
   "id": "ccd65e4d440f98c9",
   "metadata": {},
   "source": [
    "### YOLO Model Setup\n",
    "\n",
    "- **Device Selection:**\n",
    "  You can **force the use of CPU or GPU** manually.\n",
    "  If not specified, the device will be **auto-detected** later.\n",
    "\n",
    "- **Model Path (`model_path`):**\n",
    "  - Uses the environment variable `MODEL_PATH` if it exists.\n",
    "  - Otherwise, defaults to `\"yolo12n.pt\"`.\n",
    "\n",
    "- **`YOLO(model_path)`**:\n",
    "  - Calls the **YOLO class** from Ultralytics with the given `model_path`.\n",
    "  - Loads the **pretrained model into memory**.\n",
    "  - **Important:** The model is loaded **once in the constructor**, so you **don’t need to reload it** every time you perform detection.\n"
   ]
  },
  {
   "cell_type": "code",
   "id": "8600596ecb2f6898",
   "metadata": {
    "ExecuteTime": {
     "end_time": "2025-10-02T17:26:28.075280Z",
     "start_time": "2025-10-02T17:26:27.937215Z"
    }
   },
   "source": [
    "model_path = os.getenv(\"MODEL_PATH\",None) #if we didn't set model , default this come \"yolo12n.pt\"\n",
    "device = (\"cuda\" if torch.cuda.is_available() else \"cpu\")\n",
    "model = YOLO(model_path).to(device)"
   ],
   "outputs": [],
   "execution_count": 19
  },
  {
   "cell_type": "markdown",
   "id": "385e0a33dc2be99a",
   "metadata": {},
   "source": [
    "#### As here  below we can see our model is lock & loaded on cpu not gpu as i dont have didicated graphic card 💀."
   ]
  },
  {
   "cell_type": "code",
   "id": "80079dd8ff0c20f7",
   "metadata": {
    "ExecuteTime": {
     "end_time": "2025-10-02T17:26:28.097009Z",
     "start_time": "2025-10-02T17:26:28.090899Z"
    }
   },
   "source": [
    "print(f\"[YOLODetector] Loaded model: {model_path} on {device}\")"
   ],
   "outputs": [
    {
     "name": "stdout",
     "output_type": "stream",
     "text": [
      "[YOLODetector] Loaded model: yolo12s.pt on cpu\n"
     ]
    }
   ],
   "execution_count": 20
  },
  {
   "cell_type": "markdown",
   "id": "878411499563a814",
   "metadata": {},
   "source": [
    "### **COCO 2017 Dataset Classes**\n",
    "\n",
    "- These are the object classes we will use from the **COCO 2017 dataset**.\n",
    "- The model will detect only on these classes.\n",
    "\n",
    "> **Note:** COCO 2017 has 80 classes in total, but for our task, we select a subset relevant to our need.\n",
    "\n",
    "- When a detection is made:\n",
    "  - If the **class ID** is **in** `self.reusable_classes` → ✅ keep it.\n",
    "  - If the **class ID** is **not in** `self.reusable_classes` → ❌ ignore it.\n",
    "\n",
    "\n",
    "This keeps the detection system **focused only on relevant items**, reducing noise from unnecessary classes.\n"
   ]
  },
  {
   "cell_type": "code",
   "id": "57a383b053fbd35c",
   "metadata": {
    "ExecuteTime": {
     "end_time": "2025-10-02T17:26:28.181855Z",
     "start_time": "2025-10-02T17:26:28.174915Z"
    }
   },
   "source": [
    "reusable_classes = {\n",
    "    39: 'bottle',\n",
    "    41: 'cup',\n",
    "    42: 'fork',\n",
    "    43: 'knife',\n",
    "    44: 'spoon',\n",
    "    45: 'bowl',\n",
    "    46: 'banana',\n",
    "    47: 'apple',\n",
    "    51: 'orange',\n",
    "    67: 'cell phone',\n",
    "    73: 'laptop',\n",
    "    76: 'keyboard',\n",
    "    84: 'book',\n",
    "}"
   ],
   "outputs": [],
   "execution_count": 21
  },
  {
   "cell_type": "markdown",
   "id": "21dacc1d11813ba1",
   "metadata": {},
   "source": [
    "### **Model Inference**\n",
    "\n",
    "- This is where the **actual inference happens**.\n",
    "- The input image/frame is passed to the YOLO model.\n",
    "- The model runs its **forward pass** and returns detections:\n",
    "  - **Bounding boxes** (location of objects).\n",
    "  - **Class IDs** (what the object is).\n",
    "  - **Confidence scores** (how sure the model is).\n",
    "\n",
    "> **Note:** Inference = the stage where the trained model is **applied to new data** to make predictions."
   ]
  },
  {
   "cell_type": "code",
   "id": "3e6cb4bd2eb76971",
   "metadata": {
    "ExecuteTime": {
     "end_time": "2025-10-02T17:26:28.204724Z",
     "start_time": "2025-10-02T17:26:28.195727Z"
    }
   },
   "source": [
    "def detect_objects(image_path: str, conf: float = 0.5, imgsz: int = 640) -> List[Dict]:\n",
    "    if not os.path.exists(image_path):\n",
    "        raise FileNotFoundError(f\"Image not found: {image_path}\")\n",
    "    classes = list(reusable_classes.keys())   #Gets all the keys (class IDs like 39, 41, 42, …) from the reusable classes dictionary and make a list.\n",
    "    results = model(\n",
    "    image_path,\n",
    "    conf=conf,\n",
    "    imgsz=imgsz,\n",
    "    classes=classes\n",
    ")\n",
    "    detections = []\n",
    "    for result in results:\n",
    "        if not getattr(result, \"boxes\", None):\n",
    "            continue\n",
    "        for box in result.boxes:\n",
    "            class_id = int(box.cls[0])  #It’s a tensor (because YOLO is built on PyTorch)\n",
    "            confidence = float(box.conf[0])\n",
    "            x1, y1, x2, y2 = map(int, box.xyxy[0].tolist())\n",
    "            detections.append({\n",
    "                    \"class_id\": class_id,\n",
    "                    \"class_name\": reusable_classes[class_id],\n",
    "                    \"confidence\": {\n",
    "                        \"score\": round(confidence, 4),       # raw score (0..1)\n",
    "                        \"percent\": round(confidence * 100, 1)  # human-friendly %\n",
    "                    },\n",
    "                    \"bbox\": [x1, y1, x2, y2]\n",
    "                })\n",
    "    return detections"
   ],
   "outputs": [],
   "execution_count": 22
  },
  {
   "cell_type": "markdown",
   "id": "e249816aa930e3e3",
   "metadata": {},
   "source": [
    "results is a list of Result objects (one per input image). Each contains detected boxes, class IDs, confidences, etc."
   ]
  },
  {
   "cell_type": "markdown",
   "id": "d4b3cc836a774833",
   "metadata": {},
   "source": [
    "### **YOLO Inference Output (Ultralytics)**\n",
    "\n",
    "When we run inference, **Ultralytics YOLO** returns a **list of `Results` objects**\n",
    "👉 one `Results` object **per input image**.\n",
    "\n",
    "---\n",
    "\n",
    "#### **Step 1: What is a `Results` object?**\n",
    "Each `Results` object contains:\n",
    "- The **input image** (possibly resized).\n",
    "- All **detections** found in that image.\n",
    "- **Helper methods** (e.g., `.plot()`, `.save()`).\n",
    "\n",
    "➡️ In short: **`result` = container for one image’s predictions**.\n",
    "\n",
    "---\n",
    "\n",
    "#### **Step 2: What is `.boxes` inside a result?**\n",
    "- `result.boxes` → an attribute of the `Results` object.\n",
    "- It is a **`Boxes` object** (Ultralytics’ custom class).\n",
    "- Stores **all bounding boxes YOLO predicted** for that image.\n",
    "- Each entry in `result.boxes` = **one detection**.\n",
    "\n",
    "---\n",
    "\n",
    "#### **Step 3: What does each box contain?**\n",
    "A single box has:\n",
    "- `.cls` → predicted **class id** (e.g., `tensor([39.])`).\n",
    "- `.conf` → **confidence score** (e.g., `tensor([0.872])`).\n",
    "- `.xyxy` → bounding box in **[x1, y1, x2, y2]** format (absolute pixel values).\n",
    "- `.xywh` → bounding box in **[x_center, y_center, width, height]** format.\n",
    "- `.data` → raw tensor with all values stacked.\n",
    "\n",
    "---\n",
    "\n",
    "✅ Example:\n",
    "If YOLO finds **3 objects** in an image, then `result.boxes` will contain **3 box objects**,\n",
    "each with its own class, confidence, and coordinates."
   ]
  },
  {
   "cell_type": "markdown",
   "id": "daa98e3e7538a0bb",
   "metadata": {},
   "source": [
    "### **Lets run & see how this works**"
   ]
  },
  {
   "cell_type": "code",
   "id": "e31218980c1c7691",
   "metadata": {
    "ExecuteTime": {
     "end_time": "2025-10-02T17:26:29.086857Z",
     "start_time": "2025-10-02T17:26:28.231793Z"
    }
   },
   "source": [
    "detect = detect_objects(\"test5.jpg\")\n",
    "print(detect)"
   ],
   "outputs": [
    {
     "name": "stdout",
     "output_type": "stream",
     "text": [
      "\n",
      "image 1/1 D:\\PycharmProjects\\Eco_Vision\\fastApi\\ML notebook\\test5.jpg: 512x640 (no detections), 585.8ms\n",
      "Speed: 4.5ms preprocess, 585.8ms inference, 1.1ms postprocess per image at shape (1, 3, 512, 640)\n",
      "[]\n"
     ]
    }
   ],
   "execution_count": 23
  },
  {
   "cell_type": "markdown",
   "id": "2e433cde8990d45",
   "metadata": {},
   "source": [
    "We got list of classes and here it detect 8/10 bottles in our image."
   ]
  },
  {
   "cell_type": "markdown",
   "id": "cf76f08ae5563a92",
   "metadata": {},
   "source": [
    "### **YOLO Inference Timing Flow**\n",
    "\n",
    "The YOLO output line:\n",
    "\n",
    "```\n",
    "\n",
    "test.jpg: 576x640 8 bottles, 214.9ms\n",
    "Speed: 8.5ms preprocess, 214.9ms inference, 3.8ms postprocess per image at shape (1, 3, 576, 640)\n",
    "\n",
    "```\n",
    "\n",
    "can be visualized as:\n",
    "\n",
    "```\n",
    "\n",
    "Input Image: test.jpg (576x640)\n",
    "│\n",
    "▼\n",
    "Preprocess: 8.5ms\n",
    "\n",
    "* Load image\n",
    "* Resize & normalize\n",
    "* Convert to tensor\n",
    "* Send to GPU\n",
    "  │\n",
    "  ▼\n",
    "  Inference: 214.9ms\n",
    "* YOLO model predicts bounding boxes & class scores\n",
    "  │\n",
    "  ▼\n",
    "  Postprocess: 3.8ms\n",
    "* Non-Max Suppression (NMS)\n",
    "* Filter overlapping boxes\n",
    "* Scale boxes to original image\n",
    "  │\n",
    "  ▼\n",
    "  Output: 8 bottles detected\n",
    "  Total time: 214.9ms\n",
    "\n",
    "```\n",
    "\n",
    "**Explanation:**\n",
    "- **Preprocess:** Preparation before model runs.\n",
    "- **Inference:** Model does all predictions.\n",
    "- **Postprocess:** Refines and formats predictions.\n",
    "\n",
    "> **Note:** Most of the time is spent in **inference**, which grows with image size or model complexity.\n",
    "\n",
    "Here’s a clean Markdown snippet for your Jupyter Notebook explaining the input tensor shape:\n",
    "\n",
    "### **Input Tensor Shape**\n",
    "\n",
    "The YOLO model input tensor has the shape:\n",
    "\n",
    "```\n",
    "\n",
    "(1, 3, 576, 640)\n",
    "\n",
    "```\n",
    "\n",
    "**Breakdown:**\n",
    "\n",
    "| Dimension | Meaning |\n",
    "|-----------|---------|\n",
    "| 1         | Batch size (**one image**) |\n",
    "| 3         | Number of color channels (**RGB**) |\n",
    "| 576       | Image height in pixels |\n",
    "| 640       | Image width in pixels |\n",
    "\n",
    "> **Note:** YOLO requires input images to be resized and converted into a tensor of shape `(batch, channels, height, width)` before passing it through the model."
   ]
  },
  {
   "cell_type": "code",
   "id": "78c7d06249798b6e",
   "metadata": {
    "ExecuteTime": {
     "end_time": "2025-10-02T17:26:29.111262Z",
     "start_time": "2025-10-02T17:26:29.104013Z"
    }
   },
   "source": [
    "def annotate_image(image_path: str, detections: List[Dict]) -> np.ndarray:\n",
    "    img_bgr = cv2.imread(image_path)\n",
    "    if img_bgr is None:\n",
    "        raise FileNotFoundError(f\"Failed to read image: {image_path}\")\n",
    "    for det in detections:\n",
    "        x1, y1, x2, y2 = det[\"bbox\"]\n",
    "        label = f\"{det['class_name']} {det['confidence']['percent']}%\"\n",
    "        cv2.rectangle(img_bgr, (x1, y1), (x2, y2), (16, 185, 129), 2)\n",
    "        cv2.putText(img_bgr, label, (x1, y1 - 6),\n",
    "                    cv2.FONT_HERSHEY_SIMPLEX, 0.2,\n",
    "                    (0, 0, 0), 1, cv2.LINE_AA)\n",
    "    img_rgb = cv2.cvtColor(img_bgr, cv2.COLOR_BGR2RGB)\n",
    "    cv2.imshow(\"Annotated Image\", img_rgb)\n",
    "    cv2.waitKey(0)\n",
    "    cv2.destroyAllWindows()\n",
    "    return img_rgb"
   ],
   "outputs": [],
   "execution_count": 24
  },
  {
   "cell_type": "markdown",
   "id": "55bcefd316d33ac4",
   "metadata": {},
   "source": [
    "### **`cv2.imread()`**\n",
    "\n",
    "- **What:**\n",
    "  OpenCV function to **read an image from disk**.\n",
    "\n",
    "- **Why:**\n",
    "  Loads the image into a **NumPy array** in **BGR format**.\n",
    "  > Note: OpenCV uses **Blue-Green-Red (BGR) channel order** by default, not RGB.\n",
    "\n",
    "\n",
    "### **`cv2.rectangle()`**\n",
    "\n",
    "Draws a rectangle on an image typically used for **bounding boxes** around detected objects.\n",
    "\n",
    "```python\n",
    "cv2.rectangle(img_bgr, (x1, y1), (x2, y2), (16, 185, 129), 2)\n",
    "````\n",
    "\n",
    "**Breakdown of parameters:**\n",
    "\n",
    "| Parameter        | What it is                           | Why                                                            |\n",
    "| ---------------- | ------------------------------------ | -------------------------------------------------------------- |\n",
    "| `img_bgr`        | The image array (in BGR format)      | Rectangle will be drawn directly on this image                 |\n",
    "| `(x1, y1)`       | Top-left corner of the rectangle     | Defines where the rectangle starts                             |\n",
    "| `(x2, y2)`       | Bottom-right corner of the rectangle | Defines where the rectangle ends                               |\n",
    "| `(16, 185, 129)` | BGR color tuple for the rectangle    | Chooses a visible color (here, a shade of green)               |\n",
    "| `2`              | Line thickness in pixels             | Determines how thick the rectangle border appears on the image |\n",
    "\n",
    "> **Note:** OpenCV uses **BGR** order, not RGB, for colors.\n",
    "\n",
    "### **`cv2.putText()`**\n",
    "\n",
    "Draws text on an image typically used to **display the class name and confidence** above a bounding box.\n",
    "\n",
    "```python\n",
    "cv2.putText(img_bgr, label, (x1, y1 - 6),\n",
    "            cv2.FONT_HERSHEY_SIMPLEX, 0.2,\n",
    "            (0, 0, 0), 1, cv2.LINE_AA)\n",
    "````\n",
    "\n",
    "**Breakdown of parameters:**\n",
    "\n",
    "| Parameter                  | What it is                                            | Why                                                            |\n",
    "|----------------------------| ----------------------------------------------------- | -------------------------------------------------------------- |\n",
    "| `img_bgr`                  | The image array where text will be drawn (BGR format) | Text appears directly on this image alongside the bounding box |\n",
    "| `label`                    | Text string (e.g., `\"bottle 92.1%\"`)                  | Displays the **object name and confidence**                    |\n",
    "| `(x1, y1 - 6)`             | Bottom-left corner coordinates of the text            | Slightly above the bounding box to avoid overlap               |\n",
    "| `cv2.FONT_HERSHEY_SIMPLEX` | Predefined OpenCV font type                           | Determines the **style of the text**                           |\n",
    "| `0.2`                      | Font scale                                            | Controls **text size** (0.5 = moderately small)                |\n",
    "| `(0, 0, 0)`                | Text color in BGR (white)                             | Ensures high visibility against most backgrounds               |\n",
    "| `1`                        | Thickness of the text stroke                          | Determines how bold the text appears                           |\n",
    "| `cv2.LINE_AA`              | Anti-aliased line type                                | Smooths edges for better readability                           |\n",
    "\n",
    "> **Note:** Using anti-aliasing (`cv2.LINE_AA`) makes the text **look smoother and more professional**.\n",
    "\n",
    "### **Converting BGR to RGB**\n",
    "\n",
    "```python\n",
    "img_rgb = cv2.cvtColor(img_bgr, cv2.COLOR_BGR2RGB)\n",
    "````\n",
    "\n",
    "**Breakdown of components:**\n",
    "\n",
    "| Component           | What it is                                      | Why                                                               |\n",
    "| ------------------- | ----------------------------------------------- | ----------------------------------------------------------------- |\n",
    "| `img_rgb`           | New variable storing the converted image        | Needed in **RGB format** for consistent display (matplotlib, web) |\n",
    "| `cv2.cvtColor()`    | OpenCV function to convert image color spaces   | Converts BGR → RGB                                                |\n",
    "| `img_bgr`           | Input image in **BGR format**                   | Source image with drawn bounding boxes and text                   |\n",
    "| `cv2.COLOR_BGR2RGB` | OpenCV constant specifying BGR → RGB conversion | Ensures red, green, and blue channels are correctly reordered     |\n",
    "\n",
    "> **Note:** OpenCV uses **BGR by default**, while most display libraries (matplotlib, PIL, browsers) expect **RGB**. This conversion prevents color distortion."
   ]
  },
  {
   "cell_type": "markdown",
   "id": "3995458771252922",
   "metadata": {},
   "source": [
    "### Now annotation is also working"
   ]
  },
  {
   "cell_type": "code",
   "id": "458a85d88e3af4b6",
   "metadata": {
    "ExecuteTime": {
     "end_time": "2025-10-02T17:26:54.920984Z",
     "start_time": "2025-10-02T17:26:29.124663Z"
    }
   },
   "source": [
    "annotate_image(\"test.jpg\",detect)"
   ],
   "outputs": [
    {
     "data": {
      "text/plain": [
       "array([[[255, 255, 255],\n",
       "        [255, 255, 255],\n",
       "        [255, 255, 255],\n",
       "        ...,\n",
       "        [255, 255, 255],\n",
       "        [255, 255, 255],\n",
       "        [255, 255, 255]],\n",
       "\n",
       "       [[255, 255, 255],\n",
       "        [255, 255, 255],\n",
       "        [255, 255, 255],\n",
       "        ...,\n",
       "        [255, 255, 255],\n",
       "        [255, 255, 255],\n",
       "        [255, 255, 255]],\n",
       "\n",
       "       [[255, 255, 255],\n",
       "        [255, 255, 255],\n",
       "        [255, 255, 255],\n",
       "        ...,\n",
       "        [255, 255, 255],\n",
       "        [255, 255, 255],\n",
       "        [255, 255, 255]],\n",
       "\n",
       "       ...,\n",
       "\n",
       "       [[255, 255, 255],\n",
       "        [255, 255, 255],\n",
       "        [255, 255, 255],\n",
       "        ...,\n",
       "        [255, 255, 255],\n",
       "        [255, 255, 255],\n",
       "        [255, 255, 255]],\n",
       "\n",
       "       [[255, 255, 255],\n",
       "        [255, 255, 255],\n",
       "        [255, 255, 255],\n",
       "        ...,\n",
       "        [255, 255, 255],\n",
       "        [255, 255, 255],\n",
       "        [255, 255, 255]],\n",
       "\n",
       "       [[255, 255, 255],\n",
       "        [255, 255, 255],\n",
       "        [255, 255, 255],\n",
       "        ...,\n",
       "        [255, 255, 255],\n",
       "        [255, 255, 255],\n",
       "        [255, 255, 255]]], shape=(211, 239, 3), dtype=uint8)"
      ]
     },
     "execution_count": 25,
     "metadata": {},
     "output_type": "execute_result"
    }
   ],
   "execution_count": 25
  },
  {
   "cell_type": "markdown",
   "id": "d72520880a9469eb",
   "metadata": {},
   "source": [
    "# **LETS CREATE SERVICE LAYER**"
   ]
  },
  {
   "cell_type": "code",
   "id": "22c7dda29984f8da",
   "metadata": {
    "ExecuteTime": {
     "end_time": "2025-10-02T17:26:54.979508Z",
     "start_time": "2025-10-02T17:26:54.967201Z"
    }
   },
   "source": [
    "import base64\n",
    "import cv2\n",
    "import json\n",
    "from pathlib import Path\n",
    "from fastApi.app.models.yolo_detector import YOLODetector"
   ],
   "outputs": [],
   "execution_count": 26
  },
  {
   "cell_type": "markdown",
   "id": "48818b9d0aa50a20",
   "metadata": {},
   "source": [
    "## **Imports Overview**\n",
    "\n",
    "- `base64` → Convert images to **base64 strings** for JSON-safe API responses.\n",
    "- `cv2` → OpenCV for **image processing** (drawing, encoding, color conversion).\n",
    "- `json` → Load JSON files like `reuse_mapping.json` into Python dicts.\n",
    "- `Path` from `pathlib` → Modern, **cross-platform file path management** better than os.path.\n",
    "- `YOLODetector` → Our custom class for **running YOLO detections**."
   ]
  },
  {
   "cell_type": "markdown",
   "id": "165f5377178613b9",
   "metadata": {},
   "source": [
    "# Python `pathlib` Module (`Path`)\n",
    "\n",
    "The `pathlib` module provides **classes to handle filesystem paths** in an object-oriented way. It's modern, readable, and safer than using string paths with `os.path`.\n",
    "\n",
    "---\n",
    "\n",
    "## 1. Importing Path\n",
    "```python\n",
    "from pathlib import Path\n",
    "````\n",
    "\n",
    "* `Path` is the main class representing a **file or directory path**.\n",
    "\n",
    "---\n",
    "\n",
    "## 2. Creating Paths\n",
    "\n",
    "```python\n",
    "p = Path(\"C:/Users/Shivansh/Documents\")  # Absolute path\n",
    "q = Path(\"my_folder/my_file.txt\")        # Relative path\n",
    "```\n",
    "\n",
    "* Handles forward slashes `/` on any OS.\n",
    "\n",
    "---\n",
    "\n",
    "## 3. Checking Path Properties\n",
    "\n",
    "```python\n",
    "p.exists()   # True if path exists\n",
    "p.is_file()  # True if path is a file\n",
    "p.is_dir()   # True if path is a directory\n",
    "```\n",
    "\n",
    "---\n",
    "\n",
    "## 4. Path Operations\n",
    "\n",
    "### Joining Paths\n",
    "\n",
    "```python\n",
    "p = Path(\"C:/Users/Shivansh\")\n",
    "q = p / \"Documents\" / \"file.txt\"\n",
    "print(q)  # C:/Users/Shivansh/Documents/file.txt\n",
    "```\n",
    "\n",
    "* `/` operator joins paths (cleaner than `os.path.join`).\n",
    "\n",
    "### Getting parts of a path\n",
    "\n",
    "```python\n",
    "print(q.name)     # file.txt\n",
    "print(q.stem)     # file\n",
    "print(q.suffix)   # .txt\n",
    "print(q.parent)   # C:/Users/Shivansh/Documents\n",
    "```\n",
    "\n",
    "---\n",
    "\n",
    "## 5. Creating Directories or Files\n",
    "\n",
    "```python\n",
    "p = Path(\"new_folder\")\n",
    "p.mkdir(exist_ok=True)  # Create folder if not exists\n",
    "\n",
    "file_path = p / \"my_file.txt\"\n",
    "file_path.touch()        # Create empty file\n",
    "```\n",
    "\n",
    "---\n",
    "\n",
    "## 6. Iterating Over Files\n",
    "\n",
    "```python\n",
    "p = Path(\"C:/Users/Shivansh/Documents\")\n",
    "for file in p.iterdir():\n",
    "    print(file)\n",
    "```\n",
    "\n",
    "### Filtering by extension\n",
    "\n",
    "```python\n",
    "for file in p.glob(\"*.txt\"):\n",
    "    print(file)\n",
    "```\n",
    "\n",
    "---\n",
    "\n",
    "## 7. Reading and Writing Files\n",
    "\n",
    "```python\n",
    "file = Path(\"example.txt\")\n",
    "\n",
    "file.write_text(\"Hello Python!\")   # Write to file\n",
    "content = file.read_text()         # Read from file\n",
    "print(content)\n",
    "```\n",
    "\n",
    "---\n",
    "\n",
    "## ✅ Advantages of `pathlib` over `os.path`\n",
    "\n",
    "1. Object-oriented – paths are objects with methods.\n",
    "2. Cross-platform safe.\n",
    "3. Cleaner syntax (`/` operator for joining).\n",
    "4. Powerful : iteration, globbing, reading/writing.\n"
   ]
  },
  {
   "cell_type": "markdown",
   "id": "3411cd1a1a12f88",
   "metadata": {},
   "source": [
    "#### **_Path.cwd() gets the current path of our file , then .parent just means go 1 time up to parent_**"
   ]
  },
  {
   "cell_type": "code",
   "id": "1efff5742cd115e1",
   "metadata": {
    "ExecuteTime": {
     "end_time": "2025-10-02T17:26:55.028549Z",
     "start_time": "2025-10-02T17:26:55.021578Z"
    }
   },
   "source": [
    "Path.cwd().parent / \"app\" / \"data\" / \"reuse_mapping.json\""
   ],
   "outputs": [
    {
     "data": {
      "text/plain": [
       "WindowsPath('D:/PycharmProjects/Eco_Vision/fastApi/app/data/reuse_mapping.json')"
      ]
     },
     "execution_count": 27,
     "metadata": {},
     "output_type": "execute_result"
    }
   ],
   "execution_count": 27
  },
  {
   "cell_type": "code",
   "id": "b568164a6728e220",
   "metadata": {
    "ExecuteTime": {
     "end_time": "2025-10-02T17:26:55.126572Z",
     "start_time": "2025-10-02T17:26:55.119602Z"
    }
   },
   "source": [
    "data_path = Path.cwd().parent / \"app\" / \"data\" / \"reuse_mapping.json\"\n",
    "with open(data_path, \"r\") as f:\n",
    "    reuse_mapping = json.load(f)"
   ],
   "outputs": [],
   "execution_count": 28
  },
  {
   "cell_type": "markdown",
   "id": "3be376b53c574a0d",
   "metadata": {},
   "source": [
    "#### Now we add reuse tips using below fn and return detection list of dict + annonated images in base64 format"
   ]
  },
  {
   "cell_type": "code",
   "id": "435d13f9686cd0a4",
   "metadata": {
    "ExecuteTime": {
     "end_time": "2025-10-02T17:26:55.170828Z",
     "start_time": "2025-10-02T17:26:55.159888Z"
    }
   },
   "source": [
    "def run_detection(image_path: str, conf: float = 0.5) -> dict:\n",
    "\n",
    "    detections = detect_objects(image_path, conf=conf)  # get raw detections from YOLO.\n",
    "\n",
    "    for d in detections:\n",
    "        cls = d[\"class_name\"]\n",
    "        d[\"reuse_tip\"] = reuse_mapping.get(cls, \"No tip available\")\n",
    "\n",
    "    # Annotate\n",
    "    annotated_img = annotate_image(image_path, detections)\n",
    "\n",
    "    # Step 4: Convert annotated image to base64 (for JSON return)\n",
    "    _, buffer = cv2.imencode(\".jpg\", cv2.cvtColor(annotated_img, cv2.COLOR_RGB2BGR))\n",
    "    img_base64 = base64.b64encode(buffer).decode(\"utf-8\")\n",
    "\n",
    "    return {\n",
    "        \"detections\": detections,\n",
    "        \"annotated_image\": img_base64,\n",
    "        \"total_items\": len(detections)\n",
    "    }"
   ],
   "outputs": [],
   "execution_count": 29
  },
  {
   "cell_type": "markdown",
   "id": "536c4c1988c2c8a",
   "metadata": {},
   "source": [
    "#### _Here u can see that imencode() gives us tuple._"
   ]
  },
  {
   "cell_type": "code",
   "id": "5f363f693c582695",
   "metadata": {
    "ExecuteTime": {
     "end_time": "2025-10-02T17:26:55.196738Z",
     "start_time": "2025-10-02T17:26:55.187056Z"
    }
   },
   "source": [
    "import numpy as np\n",
    "\n",
    "# 1. Create a dummy image (RGB)\n",
    "img = np.zeros((100, 100, 3), dtype=np.uint8)\n",
    "img[:] = [255, 0, 0]  # fill with red\n",
    "\n",
    "# 2. Encode the image to JPG in memory\n",
    "buffer = cv2.imencode(\".jpg\", cv2.cvtColor(img, cv2.COLOR_RGB2BGR)) #its a tuple (ecoding is succeeded or not , nd.array )\n",
    "print(buffer)"
   ],
   "outputs": [
    {
     "name": "stdout",
     "output_type": "stream",
     "text": [
      "(True, array([255, 216, 255, 224,   0,  16,  74,  70,  73,  70,   0,   1,   1,   0,   0,   1,   0,   1,   0,   0, 255, 219,   0,  67,   0,   2,   1,   1,   1,   1,   1,   2,   1,   1,   1,   2,   2,   2,   2,   2,   4,   3,   2,   2,   2,   2,   5,   4,   4,   3,   4,   6,   5,   6,   6,   6,   5,   6,   6,   6,   7,   9,\n",
      "         8,   6,   7,   9,   7,   6,   6,   8,  11,   8,   9,  10,  10,  10,  10,  10,   6,   8,  11,  12,  11,  10,  12,   9,  10,  10,  10, 255, 219,   0,  67,   1,   2,   2,   2,   2,   2,   2,   5,   3,   3,   5,  10,   7,   6,   7,  10,  10,  10,  10,  10,  10,  10,  10,  10,  10,  10,  10,  10,  10,  10,  10,\n",
      "        10,  10,  10,  10,  10,  10,  10,  10,  10,  10,  10,  10,  10,  10,  10,  10,  10,  10,  10,  10,  10,  10,  10,  10,  10,  10,  10,  10,  10,  10,  10,  10,  10,  10, 255, 192,   0,  17,   8,   0, 100,   0, 100,   3,   1,  34,   0,   2,  17,   1,   3,  17,   1, 255, 196,   0,  31,   0,   0,   1,   5,   1,\n",
      "         1,   1,   1,   1,   1,   0,   0,   0,   0,   0,   0,   0,   0,   1,   2,   3,   4,   5,   6,   7,   8,   9,  10,  11, 255, 196,   0, 181,  16,   0,   2,   1,   3,   3,   2,   4,   3,   5,   5,   4,   4,   0,   0,   1, 125,   1,   2,   3,   0,   4,  17,   5,  18,  33,  49,  65,   6,  19,  81,  97,   7,  34,\n",
      "       113,  20,  50, 129, 145, 161,   8,  35,  66, 177, 193,  21,  82, 209, 240,  36,  51,  98, 114, 130,   9,  10,  22,  23,  24,  25,  26,  37,  38,  39,  40,  41,  42,  52,  53,  54,  55,  56,  57,  58,  67,  68,  69,  70,  71,  72,  73,  74,  83,  84,  85,  86,  87,  88,  89,  90,  99, 100, 101, 102, 103, 104,\n",
      "       105, 106, 115, 116, 117, 118, 119, 120, 121, 122, 131, 132, 133, 134, 135, 136, 137, 138, 146, 147, 148, 149, 150, 151, 152, 153, 154, 162, 163, 164, 165, 166, 167, 168, 169, 170, 178, 179, 180, 181, 182, 183, 184, 185, 186, 194, 195, 196, 197, 198, 199, 200, 201, 202, 210, 211, 212, 213, 214, 215, 216, 217,\n",
      "       218, 225, 226, 227, 228, 229, 230, 231, 232, 233, 234, 241, 242, 243, 244, 245, 246, 247, 248, 249, 250, 255, 196,   0,  31,   1,   0,   3,   1,   1,   1,   1,   1,   1,   1,   1,   1,   0,   0,   0,   0,   0,   0,   1,   2,   3,   4,   5,   6,   7,   8,   9,  10,  11, 255, 196,   0, 181,  17,   0,   2,   1,\n",
      "         2,   4,   4,   3,   4,   7,   5,   4,   4,   0,   1,   2, 119,   0,   1,   2,   3,  17,   4,   5,  33,  49,   6,  18,  65,  81,   7,  97, 113,  19,  34,  50, 129,   8,  20,  66, 145, 161, 177, 193,   9,  35,  51,  82, 240,  21,  98, 114, 209,  10,  22,  36,  52, 225,  37, 241,  23,  24,  25,  26,  38,  39,\n",
      "        40,  41,  42,  53,  54,  55,  56,  57,  58,  67,  68,  69,  70,  71,  72,  73,  74,  83,  84,  85,  86,  87,  88,  89,  90,  99, 100, 101, 102, 103, 104, 105, 106, 115, 116, 117, 118, 119, 120, 121, 122, 130, 131, 132, 133, 134, 135, 136, 137, 138, 146, 147, 148, 149, 150, 151, 152, 153, 154, 162, 163, 164,\n",
      "       165, 166, 167, 168, 169, 170, 178, 179, 180, 181, 182, 183, 184, 185, 186, 194, 195, 196, 197, 198, 199, 200, 201, 202, 210, 211, 212, 213, 214, 215, 216, 217, 218, 226, 227, 228, 229, 230, 231, 232, 233, 234, 242, 243, 244, 245, 246, 247, 248, 249, 250, 255, 218,   0,  12,   3,   1,   0,   2,  17,   3,  17,\n",
      "         0,  63,   0, 248, 190, 138,  40, 175, 229,  51, 253, 252,  10,  40, 162, 128,  10,  40, 162, 128,  10,  40, 162, 128,  10,  40, 162, 128,  10,  40, 162, 128,  10,  40, 162, 128,  10,  40, 162, 128,  10,  40, 162, 128,  10,  40, 162, 128,  10,  40, 162, 128,  10,  40, 162, 128,  10,  40, 162, 128,  10,  40,\n",
      "       162, 128,  10,  40, 162, 128,  10,  40, 162, 128,  10,  40, 162, 128,  10,  40, 162, 128,  10,  40, 162, 128,  10,  40, 162, 128,  10,  40, 162, 128,  10,  40, 162, 128,  10,  40, 162, 128,  10,  40, 162, 128,  10,  40, 162, 128,  10,  40, 162, 128,  10,  40, 162, 128,  10,  40, 162, 128,  10,  40, 162, 128,\n",
      "        10,  40, 162, 128,  10,  40, 162, 128,  10,  40, 162, 128,  10,  40, 162, 128,  10,  40, 162, 128,  10,  40, 162, 128,  10,  40, 162, 128,  10,  40, 162, 128,  10,  40, 162, 128,  10,  40, 162, 128,  10,  40, 162, 128,  10,  40, 162, 128,  10,  40, 162, 128,  10,  40, 162, 128,  10,  40, 162, 128,  10,  40,\n",
      "       162, 128,  10,  40, 162, 128,  10,  40, 162, 128,  10,  40, 162, 128,  10,  40, 162, 128,  63, 255, 217], dtype=uint8))\n"
     ]
    }
   ],
   "execution_count": 30
  },
  {
   "cell_type": "markdown",
   "id": "f1ae798d8fb1e8ef",
   "metadata": {},
   "source": [
    "## **Converting Annotated Image to Base64 for JSON**\n",
    "\n",
    "**Step 1:** Convert RGB → BGR\n",
    "```python\n",
    "cv2.cvtColor(annotated_img, cv2.COLOR_RGB2BGR)\n",
    "````\n",
    "\n",
    "* OpenCV expects **BGR** internally.\n",
    "* Ensures colors display correctly when encoding.\n",
    "\n",
    "---\n",
    "\n",
    "**Step 2:** Encode as JPEG\n",
    "\n",
    "```python\n",
    "_, buffer = cv2.imencode(\".jpg\", img_bgr)\n",
    "```\n",
    "\n",
    "* Converts the image array into **JPEG bytes**.\n",
    "* `_` → status (ignored), `buffer` → byte array of the image.\n",
    "\n",
    "---\n",
    "\n",
    "**Step 3:** Convert bytes → base64 string\n",
    "\n",
    "```python\n",
    "img_base64 = base64.b64encode(buffer).decode(\"utf-8\")\n",
    "```\n",
    "\n",
    "* `base64.b64encode(buffer)` → bytes → safe for JSON.\n",
    "* `.decode(\"utf-8\")` → converts bytes to a **normal Python string**.\n",
    "\n",
    "---\n",
    "\n",
    "**Why:**\n",
    "\n",
    "* The frontend can **display the image directly** without saving a file to disk.\n",
    "* Makes sending images in **API responses easy and safe**."
   ]
  },
  {
   "cell_type": "code",
   "id": "ff59fdc24246ca5f",
   "metadata": {
    "ExecuteTime": {
     "end_time": "2025-10-02T17:26:55.234669Z",
     "start_time": "2025-10-02T17:26:55.227547Z"
    }
   },
   "source": [
    "# 3. Convert to base64 string\n",
    "img_base64 = base64.b64encode(buffer[1]).decode(\"utf-8\")\n",
    "print(img_base64)"
   ],
   "outputs": [
    {
     "name": "stdout",
     "output_type": "stream",
     "text": [
      "/9j/4AAQSkZJRgABAQAAAQABAAD/2wBDAAIBAQEBAQIBAQECAgICAgQDAgICAgUEBAMEBgUGBgYFBgYGBwkIBgcJBwYGCAsICQoKCgoKBggLDAsKDAkKCgr/2wBDAQICAgICAgUDAwUKBwYHCgoKCgoKCgoKCgoKCgoKCgoKCgoKCgoKCgoKCgoKCgoKCgoKCgoKCgoKCgoKCgoKCgr/wAARCABkAGQDASIAAhEBAxEB/8QAHwAAAQUBAQEBAQEAAAAAAAAAAAECAwQFBgcICQoL/8QAtRAAAgEDAwIEAwUFBAQAAAF9AQIDAAQRBRIhMUEGE1FhByJxFDKBkaEII0KxwRVS0fAkM2JyggkKFhcYGRolJicoKSo0NTY3ODk6Q0RFRkdISUpTVFVWV1hZWmNkZWZnaGlqc3R1dnd4eXqDhIWGh4iJipKTlJWWl5iZmqKjpKWmp6ipqrKztLW2t7i5usLDxMXGx8jJytLT1NXW19jZ2uHi4+Tl5ufo6erx8vP09fb3+Pn6/8QAHwEAAwEBAQEBAQEBAQAAAAAAAAECAwQFBgcICQoL/8QAtREAAgECBAQDBAcFBAQAAQJ3AAECAxEEBSExBhJBUQdhcRMiMoEIFEKRobHBCSMzUvAVYnLRChYkNOEl8RcYGRomJygpKjU2Nzg5OkNERUZHSElKU1RVVldYWVpjZGVmZ2hpanN0dXZ3eHl6goOEhYaHiImKkpOUlZaXmJmaoqOkpaanqKmqsrO0tba3uLm6wsPExcbHyMnK0tPU1dbX2Nna4uPk5ebn6Onq8vP09fb3+Pn6/9oADAMBAAIRAxEAPwD4vooor+Uz/fwKKKKACiiigAooooAKKKKACiiigAooooAKKKKACiiigAooooAKKKKACiiigAooooAKKKKACiiigAooooAKKKKACiiigAooooAKKKKACiiigAooooAKKKKACiiigAooooAKKKKACiiigAooooAKKKKACiiigAooooAKKKKACiiigAooooAKKKKACiiigAooooAKKKKACiiigAooooAKKKKACiiigAooooAKKKKACiiigAooooAKKKKACiiigAooooA//9k=\n"
     ]
    }
   ],
   "execution_count": 31
  },
  {
   "cell_type": "markdown",
   "id": "48865392a8c40c5b",
   "metadata": {},
   "source": [
    "### **Output**\n",
    "\n",
    "We get **two things**:\n",
    "1. **List of dicts** → enriched with reuse tips.\n",
    "2. **Base64 annotated image** → ready for JSON response."
   ]
  },
  {
   "cell_type": "code",
   "id": "53b09193e0ca910b",
   "metadata": {
    "ExecuteTime": {
     "end_time": "2025-10-02T17:29:42.498711Z",
     "start_time": "2025-10-02T17:29:35.449093Z"
    }
   },
   "source": "run_detection(\"test6.jpg\", conf=0.5)",
   "outputs": [
    {
     "name": "stdout",
     "output_type": "stream",
     "text": [
      "\n",
      "image 1/1 D:\\PycharmProjects\\Eco_Vision\\fastApi\\ML notebook\\test6.jpg: 352x640 3 bottles, 724.8ms\n",
      "Speed: 5.0ms preprocess, 724.8ms inference, 304.4ms postprocess per image at shape (1, 3, 352, 640)\n"
     ]
    },
    {
     "data": {
      "text/plain": [
       "{'detections': [{'class_id': 39,\n",
       "   'class_name': 'bottle',\n",
       "   'confidence': {'score': 0.9417, 'percent': 94.2},\n",
       "   'bbox': [151, 24, 292, 328],\n",
       "   'reuse_tip': 'Reuse bottles for water storage instead of single-use plastic.'},\n",
       "  {'class_id': 39,\n",
       "   'class_name': 'bottle',\n",
       "   'confidence': {'score': 0.8823, 'percent': 88.2},\n",
       "   'bbox': [6, 31, 116, 326],\n",
       "   'reuse_tip': 'Reuse bottles for water storage instead of single-use plastic.'},\n",
       "  {'class_id': 39,\n",
       "   'class_name': 'bottle',\n",
       "   'confidence': {'score': 0.7453, 'percent': 74.5},\n",
       "   'bbox': [332, 29, 461, 331],\n",
       "   'reuse_tip': 'Reuse bottles for water storage instead of single-use plastic.'}],\n",
       " 'annotated_image': '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',\n",
       " 'total_items': 3}"
      ]
     },
     "execution_count": 37,
     "metadata": {},
     "output_type": "execute_result"
    }
   ],
   "execution_count": 37
  },
  {
   "cell_type": "markdown",
   "id": "162be1d6fd93e796",
   "metadata": {},
   "source": [
    "### **Base64 Conversion in `detection_service.py`**\n",
    "\n",
    "```python\n",
    "_, buffer = cv2.imencode(\".jpg\", cv2.cvtColor(annotated_img, cv2.COLOR_RGB2BGR))\n",
    "img_base64 = base64.b64encode(buffer).decode(\"utf-8\")\n",
    "````\n",
    "\n",
    "* `annotated_img` → RGB array from `yolo_detector`\n",
    "* `cv2.cvtColor(..., cv2.COLOR_RGB2BGR)` → convert to BGR for `cv2.imencode()`\n",
    "* `cv2.imencode(\".jpg\", ...)` → encode BGR image as JPEG bytes\n",
    "* `base64.b64encode(buffer)` → bytes → base64 string for JSON\n",
    "\n",
    "**Key point:**\n",
    "\n",
    "* Base64 JPEG string **doesn’t care about BGR/RGB**; frontend will display it correctly.\n",
    "* BGR → RGB conversion only matters when working with **raw NumPy arrays**, not encoded JPEGs."
   ]
  },
  {
   "cell_type": "markdown",
   "id": "812f634ccdb076a9",
   "metadata": {},
   "source": [
    "# **LETS WORK ON API LAYER**"
   ]
  },
  {
   "cell_type": "code",
   "id": "b1bfb8a5b3d734c0",
   "metadata": {
    "ExecuteTime": {
     "end_time": "2025-10-02T17:27:10.532367Z",
     "start_time": "2025-10-02T17:26:57.711047Z"
    }
   },
   "source": [
    "import sys\n",
    "!{sys.executable} -m pip install fastapi\n",
    "!{sys.executable} -m pip install \"uvicorn[standard]\"\n",
    "!{sys.executable} -m pip install python-multipart"
   ],
   "outputs": [
    {
     "name": "stdout",
     "output_type": "stream",
     "text": [
      "Requirement already satisfied: fastapi in d:\\programs\\python\\lib\\site-packages (0.117.1)\n",
      "Requirement already satisfied: starlette<0.49.0,>=0.40.0 in d:\\programs\\python\\lib\\site-packages (from fastapi) (0.48.0)\n",
      "Requirement already satisfied: pydantic!=1.8,!=1.8.1,!=2.0.0,!=2.0.1,!=2.1.0,<3.0.0,>=1.7.4 in d:\\programs\\python\\lib\\site-packages (from fastapi) (2.11.9)\n",
      "Requirement already satisfied: typing-extensions>=4.8.0 in d:\\programs\\python\\lib\\site-packages (from fastapi) (4.14.0)\n",
      "Requirement already satisfied: annotated-types>=0.6.0 in d:\\programs\\python\\lib\\site-packages (from pydantic!=1.8,!=1.8.1,!=2.0.0,!=2.0.1,!=2.1.0,<3.0.0,>=1.7.4->fastapi) (0.7.0)\n",
      "Requirement already satisfied: pydantic-core==2.33.2 in d:\\programs\\python\\lib\\site-packages (from pydantic!=1.8,!=1.8.1,!=2.0.0,!=2.0.1,!=2.1.0,<3.0.0,>=1.7.4->fastapi) (2.33.2)\n",
      "Requirement already satisfied: typing-inspection>=0.4.0 in d:\\programs\\python\\lib\\site-packages (from pydantic!=1.8,!=1.8.1,!=2.0.0,!=2.0.1,!=2.1.0,<3.0.0,>=1.7.4->fastapi) (0.4.1)\n",
      "Requirement already satisfied: anyio<5,>=3.6.2 in d:\\programs\\python\\lib\\site-packages (from starlette<0.49.0,>=0.40.0->fastapi) (4.9.0)\n",
      "Requirement already satisfied: idna>=2.8 in d:\\programs\\python\\lib\\site-packages (from anyio<5,>=3.6.2->starlette<0.49.0,>=0.40.0->fastapi) (3.10)\n",
      "Requirement already satisfied: sniffio>=1.1 in d:\\programs\\python\\lib\\site-packages (from anyio<5,>=3.6.2->starlette<0.49.0,>=0.40.0->fastapi) (1.3.1)\n",
      "Requirement already satisfied: uvicorn[standard] in d:\\programs\\python\\lib\\site-packages (0.37.0)\n",
      "Requirement already satisfied: click>=7.0 in d:\\programs\\python\\lib\\site-packages (from uvicorn[standard]) (8.3.0)\n",
      "Requirement already satisfied: h11>=0.8 in d:\\programs\\python\\lib\\site-packages (from uvicorn[standard]) (0.16.0)\n",
      "Requirement already satisfied: colorama>=0.4 in d:\\programs\\python\\lib\\site-packages (from uvicorn[standard]) (0.4.6)\n",
      "Collecting httptools>=0.6.3 (from uvicorn[standard])\n",
      "  Using cached httptools-0.6.4-cp313-cp313-win_amd64.whl.metadata (3.7 kB)\n",
      "Requirement already satisfied: python-dotenv>=0.13 in d:\\programs\\python\\lib\\site-packages (from uvicorn[standard]) (1.1.1)\n",
      "Requirement already satisfied: pyyaml>=5.1 in d:\\programs\\python\\lib\\site-packages (from uvicorn[standard]) (6.0.2)\n",
      "Collecting watchfiles>=0.13 (from uvicorn[standard])\n",
      "  Using cached watchfiles-1.1.0-cp313-cp313-win_amd64.whl.metadata (5.0 kB)\n",
      "Collecting websockets>=10.4 (from uvicorn[standard])\n",
      "  Using cached websockets-15.0.1-cp313-cp313-win_amd64.whl.metadata (7.0 kB)\n",
      "Requirement already satisfied: anyio>=3.0.0 in d:\\programs\\python\\lib\\site-packages (from watchfiles>=0.13->uvicorn[standard]) (4.9.0)\n",
      "Requirement already satisfied: idna>=2.8 in d:\\programs\\python\\lib\\site-packages (from anyio>=3.0.0->watchfiles>=0.13->uvicorn[standard]) (3.10)\n",
      "Requirement already satisfied: sniffio>=1.1 in d:\\programs\\python\\lib\\site-packages (from anyio>=3.0.0->watchfiles>=0.13->uvicorn[standard]) (1.3.1)\n",
      "Using cached httptools-0.6.4-cp313-cp313-win_amd64.whl (87 kB)\n",
      "Using cached watchfiles-1.1.0-cp313-cp313-win_amd64.whl (292 kB)\n",
      "Using cached websockets-15.0.1-cp313-cp313-win_amd64.whl (176 kB)\n",
      "Installing collected packages: websockets, httptools, watchfiles\n",
      "\n",
      "   ---------------------------------------- 0/3 [websockets]\n",
      "   ---------------------------------------- 0/3 [websockets]\n",
      "   ---------------------------------------- 0/3 [websockets]\n",
      "   ---------------------------------------- 0/3 [websockets]\n",
      "   ---------------------------------------- 0/3 [websockets]\n",
      "   ---------------------------------------- 0/3 [websockets]\n",
      "   ---------------------------------------- 0/3 [websockets]\n",
      "   ---------------------------------------- 0/3 [websockets]\n",
      "   ---------------------------------------- 0/3 [websockets]\n",
      "   ---------------------------------------- 0/3 [websockets]\n",
      "   ---------------------------------------- 0/3 [websockets]\n",
      "   ---------------------------------------- 0/3 [websockets]\n",
      "   ---------------------------------------- 0/3 [websockets]\n",
      "   ---------------------------------------- 0/3 [websockets]\n",
      "   -------------------------- ------------- 2/3 [watchfiles]\n",
      "   -------------------------- ------------- 2/3 [watchfiles]\n",
      "   -------------------------- ------------- 2/3 [watchfiles]\n",
      "   ---------------------------------------- 3/3 [watchfiles]\n",
      "\n",
      "Successfully installed httptools-0.6.4 watchfiles-1.1.0 websockets-15.0.1\n",
      "Requirement already satisfied: python-multipart in d:\\programs\\python\\lib\\site-packages (0.0.20)\n"
     ]
    }
   ],
   "execution_count": 33
  },
  {
   "cell_type": "markdown",
   "id": "20ba05ed627140a1",
   "metadata": {},
   "source": [
    "## **Imports (API / Detection)**\n",
    "\n",
    "1. `from pathlib import Path` → Modern, cross-platform **Path object** for file paths. Safer than strings + `os.path.join`.\n",
    "2. `import base64` → Encode images to **base64 strings** for JSON; frontend can decode to display annotated images.\n",
    "3. `from fastapi import ...` → FastAPI app, handle uploads (`File`, `UploadFile`), form fields (`Form`), and raise HTTP errors (`HTTPException`).\n",
    "4. `from fastapi.middleware.cors import CORSMiddleware` → Handle **CORS** for frontend requests from different origins.\n",
    "5. `from fastapi.responses import JSONResponse` → Return structured JSON responses.\n",
    "6. `import cv2` → OpenCV for image processing: annotate images, convert RGB↔BGR, encode JPEG.\n",
    "7. `import os` → Environment variables and OS operations.\n",
    "8. `from fastApi.app.services.detection_service import DetectionService` → Custom service wrapping YOLO, reuse tips, and image annotation.\n",
    "9. `import tempfile` → Temporary files/directories; safer than saving uploads in project folder."
   ]
  },
  {
   "cell_type": "code",
   "id": "d73eee4b0c14fd48",
   "metadata": {
    "ExecuteTime": {
     "end_time": "2025-10-02T17:36:02.929890Z",
     "start_time": "2025-10-02T17:36:02.921285Z"
    }
   },
   "source": [
    "from pathlib import Path\n",
    "import base64\n",
    "from fastapi import FastAPI, File, UploadFile, Form, HTTPException\n",
    "from fastapi.middleware.cors import CORSMiddleware\n",
    "from fastapi.responses import JSONResponse\n",
    "import cv2\n",
    "import os\n",
    "from fastApi.app.services.detection_service import DetectionService\n",
    "import tempfile"
   ],
   "outputs": [],
   "execution_count": 43
  },
  {
   "cell_type": "code",
   "id": "7496389551ec789a",
   "metadata": {
    "ExecuteTime": {
     "end_time": "2025-10-02T17:36:07.579125Z",
     "start_time": "2025-10-02T17:36:07.573905Z"
    }
   },
   "source": [
    "# Initialize FastAPI app\n",
    "app = FastAPI(title=\"Reusable Item Detector API\")"
   ],
   "outputs": [],
   "execution_count": 44
  },
  {
   "cell_type": "markdown",
   "id": "2d4854afd46680b5",
   "metadata": {},
   "source": [
    "**Explanation:**\n",
    "\n",
    "1. **Allowed Origins:**\n",
    "\n",
    "```python\n",
    "allowed_origins = [origin.strip() for origin in os.getenv(\"ALLOWED_ORIGINS\", \"http://localhost:3000\").split(\",\")]\n",
    "```\n",
    "\n",
    "* Reads `ALLOWED_ORIGINS` environment variable (e.g., `\"http://localhost:3000,http://example.com\"`).\n",
    "* Splits into a **list of domains** and strips extra spaces.\n",
    "* Only these domains can call your API.\n",
    "\n",
    "2. **Add Middleware:**\n",
    "\n",
    "```python\n",
    "app.add_middleware(\n",
    "    CORSMiddleware,\n",
    "    allow_origins=allowed_origins,\n",
    "    allow_credentials=True,\n",
    "    allow_methods=[\"*\"],\n",
    "    allow_headers=[\"*\"]\n",
    ")\n",
    "```\n",
    "\n",
    "* Adds **CORS support** to FastAPI.\n",
    "* `allow_credentials=True` → allows cookies/auth headers.\n",
    "* `allow_methods=[\"*\"]` → all HTTP methods allowed.\n",
    "* `allow_headers=[\"*\"]` → all request headers allowed.\n",
    "\n",
    "**Purpose:** Prevents **CORS errors** when a frontend (like React or JS) on another domain tries to call the API."
   ]
  },
  {
   "cell_type": "code",
   "id": "13c04cc16e60fe6a",
   "metadata": {
    "ExecuteTime": {
     "end_time": "2025-10-02T17:36:21.779969Z",
     "start_time": "2025-10-02T17:36:21.770795Z"
    }
   },
   "source": [
    "allowed_origins = (\n",
    "    [origin.strip() for origin in (os.getenv(\"ALLOWED_ORIGINS\", \"http://localhost:3000\").split(\",\"))]\n",
    ")\n",
    "print(allowed_origins)"
   ],
   "outputs": [
    {
     "name": "stdout",
     "output_type": "stream",
     "text": [
      "['http://localhost:3000', 'http://127.0.0.1:3000']\n"
     ]
    }
   ],
   "execution_count": 45
  },
  {
   "cell_type": "code",
   "id": "7892d42a6463c684",
   "metadata": {
    "ExecuteTime": {
     "end_time": "2025-10-02T17:36:23.445917Z",
     "start_time": "2025-10-02T17:36:23.435643Z"
    }
   },
   "source": [
    "app.add_middleware(\n",
    "    CORSMiddleware,\n",
    "    allow_origins=allowed_origins,\n",
    "    allow_credentials=True,\n",
    "    allow_methods=[\"*\"],\n",
    "    allow_headers=[\"*\"]\n",
    ")\n",
    "print(app.middleware(CORSMiddleware),app.middleware(allowed_origins))"
   ],
   "outputs": [
    {
     "name": "stdout",
     "output_type": "stream",
     "text": [
      "<function FastAPI.middleware.<locals>.decorator at 0x000001D2630276A0> <function FastAPI.middleware.<locals>.decorator at 0x000001D263027600>\n"
     ]
    }
   ],
   "execution_count": 46
  },
  {
   "cell_type": "code",
   "id": "28c90f1857e0567a",
   "metadata": {
    "ExecuteTime": {
     "end_time": "2025-10-02T17:36:26.633707Z",
     "start_time": "2025-10-02T17:36:26.447800Z"
    }
   },
   "source": [
    "# Initialize service layers\n",
    "detection_service = DetectionService()"
   ],
   "outputs": [
    {
     "name": "stdout",
     "output_type": "stream",
     "text": [
      "[YOLODetector] Loaded model: yolo12s.pt on cpu\n"
     ]
    }
   ],
   "execution_count": 47
  },
  {
   "cell_type": "code",
   "id": "3dd79b87d5d3d527",
   "metadata": {
    "ExecuteTime": {
     "end_time": "2025-10-02T17:36:28.322896Z",
     "start_time": "2025-10-02T17:36:28.317105Z"
    }
   },
   "source": [
    "# Health check endpoint\n",
    "\n",
    "@app.get(\"/health\")\n",
    "async def health():\n",
    "    \"\"\"\n",
    "    Simple health check endpoint.\n",
    "    \"\"\"\n",
    "    return {\"status\": \"healthy\"}"
   ],
   "outputs": [],
   "execution_count": 48
  },
  {
   "cell_type": "markdown",
   "id": "a5101cb420a202f1",
   "metadata": {},
   "source": [
    "async def health() → asynchronous function for handling multiple requests concurrently."
   ]
  },
  {
   "cell_type": "code",
   "id": "c54e7fd2a56e6296",
   "metadata": {
    "ExecuteTime": {
     "end_time": "2025-10-02T17:36:32.975223Z",
     "start_time": "2025-10-02T17:36:32.963535Z"
    }
   },
   "source": [
    "# Detection endpoint\n",
    "\n",
    "@app.post(\"/detect\")\n",
    "async def detect(\n",
    "    file: UploadFile = File(...),\n",
    "    confidence: float = Form(0.5)\n",
    "):\n",
    "    \"\"\"\n",
    "    Upload an image, run detection and return JSON response with detections and annotated image.\n",
    "    \"\"\"\n",
    "\n",
    "    #  Validate uploaded file\n",
    "    if not file.content_type.startswith(\"image/\"):\n",
    "        raise HTTPException(status_code=400, detail=\"Uploaded file must be an image\")\n",
    "\n",
    "    #  Save uploaded file temporarily using tempfile\n",
    "    temp_dir = Path(tempfile.gettempdir())\n",
    "    temp_path = temp_dir / f\"tmp_{file.filename}\"\n",
    "    try:\n",
    "        with temp_path.open(\"wb\") as f:\n",
    "            f.write(await file.read())\n",
    "\n",
    "        #  Run detection\n",
    "        result = detection_service.run_detection(str(temp_path), confidence)\n",
    "\n",
    "        #  Convert annotated image to base64 (if available)\n",
    "        annotated_b64 = None\n",
    "        if result.get(\"annotated_image\") is not None:\n",
    "            # OpenCV expects BGR for encoding\n",
    "            bgr_img = cv2.cvtColor(result[\"annotated_image\"], cv2.COLOR_RGB2BGR)\n",
    "            _, buf = cv2.imencode(\".jpg\", bgr_img)\n",
    "            annotated_b64 = base64.b64encode(buf).decode(\"utf-8\")\n",
    "\n",
    "        #  Build JSON response\n",
    "        resp = {\n",
    "            \"success\": True,\n",
    "            \"detections\": result.get(\"detections\", []),\n",
    "            \"annotated_image\": annotated_b64,\n",
    "            \"total_items\": result.get(\"total_items\", 0) #defaults to 0 if key is missing.\n",
    "        }\n",
    "\n",
    "        return JSONResponse(content=resp)\n",
    "\n",
    "    finally:\n",
    "        # Cleanup temporary file\n",
    "        if temp_path.exists():\n",
    "            temp_path.unlink()"
   ],
   "outputs": [],
   "execution_count": 50
  },
  {
   "cell_type": "markdown",
   "id": "4bbec1f760ce71b",
   "metadata": {},
   "source": [
    "**Parameters:**\n",
    "\n",
    "   * `file: UploadFile = File(...)` → required uploaded image file with access to name, type, content.\n",
    "   * `confidence: float = Form(0.5)` → optional threshold for detection confidence.\n",
    "\n",
    "**Temporary saving:**\n",
    "\n",
    "* `temp_dir = Path(tempfile.gettempdir())` → OS temp folder.\n",
    "* `temp_path = temp_dir / f\"tmp_{file.filename}\"` → safe temp file path.\n",
    "* `with temp_path.open(\"wb\") as f: f.write(await file.read())` → writes uploaded bytes asynchronously.\n",
    "\n",
    "**Return JSON Response**\n",
    "\n",
    "* Converts Python dict `resp` into **JSON**.\n",
    "* Sends it to the client with `Content-Type: application/json`.\n",
    "* FastAPI automatic sets **HTTP 200 OK** for successful responses.\n",
    "\n",
    "\n",
    "**Temporary File Cleanup**\n",
    "\n",
    "**Delete file:** `temp_path.unlink()` removes the temporary file safely using `Path` object."
   ]
  }
 ],
 "metadata": {
  "kernelspec": {
   "display_name": "Python 3 (ipykernel)",
   "language": "python",
   "name": "python3"
  },
  "language_info": {
   "codemirror_mode": {
    "name": "ipython",
    "version": 2
   },
   "file_extension": ".py",
   "mimetype": "text/x-python",
   "name": "python",
   "nbconvert_exporter": "python",
   "pygments_lexer": "ipython2",
   "version": "2.7.6"
  }
 },
 "nbformat": 4,
 "nbformat_minor": 5
}
