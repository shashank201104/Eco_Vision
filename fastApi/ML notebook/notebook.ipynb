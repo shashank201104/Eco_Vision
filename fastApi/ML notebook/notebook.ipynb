{
 "cells": [
  {
   "cell_type": "markdown",
   "id": "f5482ad272e8f41b",
   "metadata": {},
   "source": [
    "### **Author**\n",
    "Shivansh Gupta"
   ]
  },
  {
   "cell_type": "markdown",
   "id": "3f8fe2d6e80e0435",
   "metadata": {},
   "source": [
    "## **Importing All the Modules**\n",
    "\n",
    "- **`YOLO` (from `ultralytics`)**\n",
    "  - Load and run the **YOLOv8 model**.\n",
    "\n",
    "- **`cv2`**\n",
    "  - Read/write images.\n",
    "  - Draw bounding boxes and other shapes.\n",
    "  - Perform color space conversions (e.g., BGR ↔ RGB).\n",
    "\n",
    "- **`numpy as np`**\n",
    "  - Work with image arrays.\n",
    "  - Perform numeric and matrix operations efficiently.\n",
    "\n",
    "- **`typing.List` / `typing.Dict`**\n",
    "  - Add **type annotations** for better code clarity and readability.\n",
    "\n",
    "- **`torch`**\n",
    "  - Detect GPU availability using `torch.cuda.is_available()`.\n",
    "  - Perform tensor operations if needed.\n",
    "\n",
    "- **`os`**\n",
    "  - Read environment variables.\n",
    "  - Check file paths and manage the filesystem."
   ]
  },
  {
   "cell_type": "code",
   "execution_count": 1,
   "id": "initial_id",
   "metadata": {
    "ExecuteTime": {
     "end_time": "2025-09-28T08:24:39.886984Z",
     "start_time": "2025-09-28T08:24:37.248351Z"
    }
   },
   "outputs": [],
   "source": [
    "import sys\n",
    "\n",
    "from ultralytics import YOLO\n",
    "import cv2\n",
    "import numpy as np\n",
    "from typing import List, Dict\n",
    "import torch"
   ]
  },
  {
   "cell_type": "markdown",
   "id": "5003ceafa8dd77bc",
   "metadata": {},
   "source": [
    "### Loading Environment Variables\n",
    "\n",
    "```python\n",
    "# Load environment variables from a .env file\n"
   ]
  },
  {
   "cell_type": "code",
   "execution_count": null,
   "id": "2fc2c6d3bcc58c95",
   "metadata": {
    "ExecuteTime": {
     "end_time": "2025-09-28T08:24:39.940971Z",
     "start_time": "2025-09-28T08:24:39.918218Z"
    }
   },
   "outputs": [
    {
     "name": "stderr",
     "output_type": "stream",
     "text": [
      "<>:3: SyntaxWarning: invalid escape sequence '\\P'\n",
      "<>:3: SyntaxWarning: invalid escape sequence '\\P'\n",
      "C:\\Users\\HP\\AppData\\Local\\Temp\\ipykernel_16020\\2373333911.py:3: SyntaxWarning: invalid escape sequence '\\P'\n",
      "  load_dotenv(dotenv_path=\"D:\\PycharmProjects\\Eco_Vision\\Backend\\.env\")\n"
     ]
    },
    {
     "data": {
      "text/plain": [
       "True"
      ]
     },
     "execution_count": 2,
     "metadata": {},
     "output_type": "execute_result"
    }
   ],
   "source": [
    "import os\n",
    "from dotenv import load_dotenv\n",
    "load_dotenv(dotenv_path=\"D:\\PycharmProjects\\Eco_Vision\\fastApi\\.env\")"
   ]
  },
  {
   "cell_type": "markdown",
   "id": "ccd65e4d440f98c9",
   "metadata": {},
   "source": [
    "### YOLO Model Setup\n",
    "\n",
    "- **Device Selection:**\n",
    "  You can **force the use of CPU or GPU** manually.\n",
    "  If not specified, the device will be **auto-detected** later.\n",
    "\n",
    "- **Model Path (`model_path`):**\n",
    "  - Uses the environment variable `MODEL_PATH` if it exists.\n",
    "  - Otherwise, defaults to `\"yolo12n.pt\"`.\n",
    "\n",
    "- **`YOLO(model_path)`**:\n",
    "  - Calls the **YOLO class** from Ultralytics with the given `model_path`.\n",
    "  - Loads the **pretrained model into memory**.\n",
    "  - **Important:** The model is loaded **once in the constructor**, so you **don’t need to reload it** every time you perform detection.\n"
   ]
  },
  {
   "cell_type": "code",
   "execution_count": 3,
   "id": "8600596ecb2f6898",
   "metadata": {
    "ExecuteTime": {
     "end_time": "2025-09-28T08:24:40.223205Z",
     "start_time": "2025-09-28T08:24:40.042Z"
    }
   },
   "outputs": [],
   "source": [
    "model_path = os.getenv(\"MODEL_PATH\",None) #if we didn't set model , default this come \"yolo12n.pt\"\n",
    "device = (\"cuda\" if torch.cuda.is_available() else \"cpu\")\n",
    "model = YOLO(model_path).to(device)"
   ]
  },
  {
   "cell_type": "markdown",
   "id": "385e0a33dc2be99a",
   "metadata": {},
   "source": [
    "#### As here  below we can see our model is lock & loaded on cpu not gpu as i dont have didicated graphic card 💀."
   ]
  },
  {
   "cell_type": "code",
   "execution_count": 4,
   "id": "80079dd8ff0c20f7",
   "metadata": {
    "ExecuteTime": {
     "end_time": "2025-09-28T08:24:40.239727Z",
     "start_time": "2025-09-28T08:24:40.235403Z"
    }
   },
   "outputs": [
    {
     "name": "stdout",
     "output_type": "stream",
     "text": [
      "[YOLODetector] Loaded model: yolo12s.pt on cpu\n"
     ]
    }
   ],
   "source": [
    "print(f\"[YOLODetector] Loaded model: {model_path} on {device}\")"
   ]
  },
  {
   "cell_type": "markdown",
   "id": "878411499563a814",
   "metadata": {},
   "source": [
    "### **COCO 2017 Dataset Classes**\n",
    "\n",
    "- These are the object classes we will use from the **COCO 2017 dataset**.\n",
    "- The model will detect only on these classes.\n",
    "\n",
    "> **Note:** COCO 2017 has 80 classes in total, but for our task, we select a subset relevant to our need.\n",
    "\n",
    "- When a detection is made:\n",
    "  - If the **class ID** is **in** `self.reusable_classes` → ✅ keep it.\n",
    "  - If the **class ID** is **not in** `self.reusable_classes` → ❌ ignore it.\n",
    "\n",
    "\n",
    "This keeps the detection system **focused only on relevant items**, reducing noise from unnecessary classes.\n"
   ]
  },
  {
   "cell_type": "code",
   "execution_count": 5,
   "id": "57a383b053fbd35c",
   "metadata": {
    "ExecuteTime": {
     "end_time": "2025-09-28T08:24:40.283924Z",
     "start_time": "2025-09-28T08:24:40.279232Z"
    }
   },
   "outputs": [],
   "source": [
    "reusable_classes = {\n",
    "    39: 'bottle',\n",
    "    41: 'cup',\n",
    "    42: 'fork',\n",
    "    43: 'knife',\n",
    "    44: 'spoon',\n",
    "    45: 'bowl',\n",
    "    46: 'banana',\n",
    "    47: 'apple',\n",
    "    51: 'orange',\n",
    "    67: 'cell phone',\n",
    "    73: 'laptop',\n",
    "    76: 'keyboard',\n",
    "    84: 'book',\n",
    "}"
   ]
  },
  {
   "cell_type": "markdown",
   "id": "21dacc1d11813ba1",
   "metadata": {},
   "source": [
    "### **Model Inference**\n",
    "\n",
    "- This is where the **actual inference happens**.\n",
    "- The input image/frame is passed to the YOLO model.\n",
    "- The model runs its **forward pass** and returns detections:\n",
    "  - **Bounding boxes** (location of objects).\n",
    "  - **Class IDs** (what the object is).\n",
    "  - **Confidence scores** (how sure the model is).\n",
    "\n",
    "> **Note:** Inference = the stage where the trained model is **applied to new data** to make predictions."
   ]
  },
  {
   "cell_type": "code",
   "execution_count": 6,
   "id": "3e6cb4bd2eb76971",
   "metadata": {
    "ExecuteTime": {
     "end_time": "2025-09-28T08:24:40.345580Z",
     "start_time": "2025-09-28T08:24:40.335615Z"
    }
   },
   "outputs": [],
   "source": [
    "def detect_objects(image_path: str, conf: float = 0.5, imgsz: int = 640) -> List[Dict]:\n",
    "    if not os.path.exists(image_path):\n",
    "        raise FileNotFoundError(f\"Image not found: {image_path}\")\n",
    "    classes = list(reusable_classes.keys())   #Gets all the keys (class IDs like 39, 41, 42, …) from the reusable classes dictionary and make a list.\n",
    "    results = model(\n",
    "    image_path,\n",
    "    conf=conf,\n",
    "    imgsz=imgsz,\n",
    "    classes=classes\n",
    ")\n",
    "    detections = []\n",
    "    for result in results:\n",
    "        if not getattr(result, \"boxes\", None):\n",
    "            continue\n",
    "        for box in result.boxes:\n",
    "            class_id = int(box.cls[0])  #It’s a tensor (because YOLO is built on PyTorch)\n",
    "            confidence = float(box.conf[0])\n",
    "            x1, y1, x2, y2 = map(int, box.xyxy[0].tolist())\n",
    "            detections.append({\n",
    "                    \"class_id\": class_id,\n",
    "                    \"class_name\": reusable_classes[class_id],\n",
    "                    \"confidence\": {\n",
    "                        \"score\": round(confidence, 4),       # raw score (0..1)\n",
    "                        \"percent\": round(confidence * 100, 1)  # human-friendly %\n",
    "                    },\n",
    "                    \"bbox\": [x1, y1, x2, y2]\n",
    "                })\n",
    "    return detections"
   ]
  },
  {
   "cell_type": "markdown",
   "id": "e249816aa930e3e3",
   "metadata": {},
   "source": [
    "results is a list of Result objects (one per input image). Each contains detected boxes, class IDs, confidences, etc."
   ]
  },
  {
   "cell_type": "markdown",
   "id": "d4b3cc836a774833",
   "metadata": {},
   "source": [
    "### **YOLO Inference Output (Ultralytics)**\n",
    "\n",
    "When we run inference, **Ultralytics YOLO** returns a **list of `Results` objects**\n",
    "👉 one `Results` object **per input image**.\n",
    "\n",
    "---\n",
    "\n",
    "#### **Step 1: What is a `Results` object?**\n",
    "Each `Results` object contains:\n",
    "- The **input image** (possibly resized).\n",
    "- All **detections** found in that image.\n",
    "- **Helper methods** (e.g., `.plot()`, `.save()`).\n",
    "\n",
    "➡️ In short: **`result` = container for one image’s predictions**.\n",
    "\n",
    "---\n",
    "\n",
    "#### **Step 2: What is `.boxes` inside a result?**\n",
    "- `result.boxes` → an attribute of the `Results` object.\n",
    "- It is a **`Boxes` object** (Ultralytics’ custom class).\n",
    "- Stores **all bounding boxes YOLO predicted** for that image.\n",
    "- Each entry in `result.boxes` = **one detection**.\n",
    "\n",
    "---\n",
    "\n",
    "#### **Step 3: What does each box contain?**\n",
    "A single box has:\n",
    "- `.cls` → predicted **class id** (e.g., `tensor([39.])`).\n",
    "- `.conf` → **confidence score** (e.g., `tensor([0.872])`).\n",
    "- `.xyxy` → bounding box in **[x1, y1, x2, y2]** format (absolute pixel values).\n",
    "- `.xywh` → bounding box in **[x_center, y_center, width, height]** format.\n",
    "- `.data` → raw tensor with all values stacked.\n",
    "\n",
    "---\n",
    "\n",
    "✅ Example:\n",
    "If YOLO finds **3 objects** in an image, then `result.boxes` will contain **3 box objects**,\n",
    "each with its own class, confidence, and coordinates."
   ]
  },
  {
   "cell_type": "markdown",
   "id": "daa98e3e7538a0bb",
   "metadata": {},
   "source": [
    "### **Lets run & see how this works**"
   ]
  },
  {
   "cell_type": "code",
   "execution_count": 7,
   "id": "e31218980c1c7691",
   "metadata": {
    "ExecuteTime": {
     "end_time": "2025-09-28T08:24:41.382491Z",
     "start_time": "2025-09-28T08:24:40.401154Z"
    }
   },
   "outputs": [
    {
     "name": "stdout",
     "output_type": "stream",
     "text": [
      "\n",
      "image 1/1 D:\\PycharmProjects\\Eco_Vision\\Backend\\ML notebook\\test.jpg: 576x640 8 bottles, 644.5ms\n",
      "Speed: 14.5ms preprocess, 644.5ms inference, 38.5ms postprocess per image at shape (1, 3, 576, 640)\n",
      "[{'class_id': 39, 'class_name': 'bottle', 'confidence': {'score': 0.9226, 'percent': 92.3}, 'bbox': [190, 66, 222, 180]}, {'class_id': 39, 'class_name': 'bottle', 'confidence': {'score': 0.8099, 'percent': 81.0}, 'bbox': [25, 61, 52, 154]}, {'class_id': 39, 'class_name': 'bottle', 'confidence': {'score': 0.782, 'percent': 78.2}, 'bbox': [104, 11, 146, 148]}, {'class_id': 39, 'class_name': 'bottle', 'confidence': {'score': 0.7601, 'percent': 76.0}, 'bbox': [145, 60, 170, 154]}, {'class_id': 39, 'class_name': 'bottle', 'confidence': {'score': 0.7229, 'percent': 72.3}, 'bbox': [157, 60, 200, 178]}, {'class_id': 39, 'class_name': 'bottle', 'confidence': {'score': 0.7098, 'percent': 71.0}, 'bbox': [45, 82, 78, 153]}, {'class_id': 39, 'class_name': 'bottle', 'confidence': {'score': 0.7034, 'percent': 70.3}, 'bbox': [59, 16, 99, 106]}, {'class_id': 39, 'class_name': 'bottle', 'confidence': {'score': 0.6853, 'percent': 68.5}, 'bbox': [78, 54, 115, 172]}]\n"
     ]
    }
   ],
   "source": [
    "detect = detect_objects(\"test.jpg\")\n",
    "print(detect)"
   ]
  },
  {
   "cell_type": "markdown",
   "id": "2e433cde8990d45",
   "metadata": {},
   "source": [
    "We got list of classes and here it detect 8/10 bottles in our image."
   ]
  },
  {
   "cell_type": "markdown",
   "id": "cf76f08ae5563a92",
   "metadata": {},
   "source": [
    "### **YOLO Inference Timing Flow**\n",
    "\n",
    "The YOLO output line:\n",
    "\n",
    "```\n",
    "\n",
    "test.jpg: 576x640 8 bottles, 214.9ms\n",
    "Speed: 8.5ms preprocess, 214.9ms inference, 3.8ms postprocess per image at shape (1, 3, 576, 640)\n",
    "\n",
    "```\n",
    "\n",
    "can be visualized as:\n",
    "\n",
    "```\n",
    "\n",
    "Input Image: test.jpg (576x640)\n",
    "│\n",
    "▼\n",
    "Preprocess: 8.5ms\n",
    "\n",
    "* Load image\n",
    "* Resize & normalize\n",
    "* Convert to tensor\n",
    "* Send to GPU\n",
    "  │\n",
    "  ▼\n",
    "  Inference: 214.9ms\n",
    "* YOLO model predicts bounding boxes & class scores\n",
    "  │\n",
    "  ▼\n",
    "  Postprocess: 3.8ms\n",
    "* Non-Max Suppression (NMS)\n",
    "* Filter overlapping boxes\n",
    "* Scale boxes to original image\n",
    "  │\n",
    "  ▼\n",
    "  Output: 8 bottles detected\n",
    "  Total time: 214.9ms\n",
    "\n",
    "```\n",
    "\n",
    "**Explanation:**\n",
    "- **Preprocess:** Preparation before model runs.\n",
    "- **Inference:** Model does all predictions.\n",
    "- **Postprocess:** Refines and formats predictions.\n",
    "\n",
    "> **Note:** Most of the time is spent in **inference**, which grows with image size or model complexity.\n",
    "\n",
    "Here’s a clean Markdown snippet for your Jupyter Notebook explaining the input tensor shape:\n",
    "\n",
    "### **Input Tensor Shape**\n",
    "\n",
    "The YOLO model input tensor has the shape:\n",
    "\n",
    "```\n",
    "\n",
    "(1, 3, 576, 640)\n",
    "\n",
    "```\n",
    "\n",
    "**Breakdown:**\n",
    "\n",
    "| Dimension | Meaning |\n",
    "|-----------|---------|\n",
    "| 1         | Batch size (**one image**) |\n",
    "| 3         | Number of color channels (**RGB**) |\n",
    "| 576       | Image height in pixels |\n",
    "| 640       | Image width in pixels |\n",
    "\n",
    "> **Note:** YOLO requires input images to be resized and converted into a tensor of shape `(batch, channels, height, width)` before passing it through the model."
   ]
  },
  {
   "cell_type": "code",
   "execution_count": 8,
   "id": "78c7d06249798b6e",
   "metadata": {
    "ExecuteTime": {
     "end_time": "2025-09-28T08:24:41.411132Z",
     "start_time": "2025-09-28T08:24:41.401765Z"
    }
   },
   "outputs": [],
   "source": [
    "def annotate_image(image_path: str, detections: List[Dict]) -> np.ndarray:\n",
    "    img_bgr = cv2.imread(image_path)\n",
    "    if img_bgr is None:\n",
    "        raise FileNotFoundError(f\"Failed to read image: {image_path}\")\n",
    "    for det in detections:\n",
    "        x1, y1, x2, y2 = det[\"bbox\"]\n",
    "        label = f\"{det['class_name']} {det['confidence']['percent']}%\"\n",
    "        cv2.rectangle(img_bgr, (x1, y1), (x2, y2), (16, 185, 129), 2)\n",
    "        cv2.putText(img_bgr, label, (x1, y1 - 6),\n",
    "                    cv2.FONT_HERSHEY_SIMPLEX, 0.2,\n",
    "                    (0, 0, 0), 1, cv2.LINE_AA)\n",
    "    img_rgb = cv2.cvtColor(img_bgr, cv2.COLOR_BGR2RGB)\n",
    "    cv2.imshow(\"Annotated Image\", img_rgb)\n",
    "    cv2.waitKey(0)\n",
    "    cv2.destroyAllWindows()\n",
    "    return img_rgb"
   ]
  },
  {
   "cell_type": "markdown",
   "id": "55bcefd316d33ac4",
   "metadata": {},
   "source": [
    "### **`cv2.imread()`**\n",
    "\n",
    "- **What:**\n",
    "  OpenCV function to **read an image from disk**.\n",
    "\n",
    "- **Why:**\n",
    "  Loads the image into a **NumPy array** in **BGR format**.\n",
    "  > Note: OpenCV uses **Blue-Green-Red (BGR) channel order** by default, not RGB.\n",
    "\n",
    "\n",
    "### **`cv2.rectangle()`**\n",
    "\n",
    "Draws a rectangle on an image typically used for **bounding boxes** around detected objects.\n",
    "\n",
    "```python\n",
    "cv2.rectangle(img_bgr, (x1, y1), (x2, y2), (16, 185, 129), 2)\n",
    "````\n",
    "\n",
    "**Breakdown of parameters:**\n",
    "\n",
    "| Parameter        | What it is                           | Why                                                            |\n",
    "| ---------------- | ------------------------------------ | -------------------------------------------------------------- |\n",
    "| `img_bgr`        | The image array (in BGR format)      | Rectangle will be drawn directly on this image                 |\n",
    "| `(x1, y1)`       | Top-left corner of the rectangle     | Defines where the rectangle starts                             |\n",
    "| `(x2, y2)`       | Bottom-right corner of the rectangle | Defines where the rectangle ends                               |\n",
    "| `(16, 185, 129)` | BGR color tuple for the rectangle    | Chooses a visible color (here, a shade of green)               |\n",
    "| `2`              | Line thickness in pixels             | Determines how thick the rectangle border appears on the image |\n",
    "\n",
    "> **Note:** OpenCV uses **BGR** order, not RGB, for colors.\n",
    "\n",
    "### **`cv2.putText()`**\n",
    "\n",
    "Draws text on an image typically used to **display the class name and confidence** above a bounding box.\n",
    "\n",
    "```python\n",
    "cv2.putText(img_bgr, label, (x1, y1 - 6),\n",
    "            cv2.FONT_HERSHEY_SIMPLEX, 0.2,\n",
    "            (0, 0, 0), 1, cv2.LINE_AA)\n",
    "````\n",
    "\n",
    "**Breakdown of parameters:**\n",
    "\n",
    "| Parameter                  | What it is                                            | Why                                                            |\n",
    "|----------------------------| ----------------------------------------------------- | -------------------------------------------------------------- |\n",
    "| `img_bgr`                  | The image array where text will be drawn (BGR format) | Text appears directly on this image alongside the bounding box |\n",
    "| `label`                    | Text string (e.g., `\"bottle 92.1%\"`)                  | Displays the **object name and confidence**                    |\n",
    "| `(x1, y1 - 6)`             | Bottom-left corner coordinates of the text            | Slightly above the bounding box to avoid overlap               |\n",
    "| `cv2.FONT_HERSHEY_SIMPLEX` | Predefined OpenCV font type                           | Determines the **style of the text**                           |\n",
    "| `0.2`                      | Font scale                                            | Controls **text size** (0.5 = moderately small)                |\n",
    "| `(0, 0, 0)`                | Text color in BGR (white)                             | Ensures high visibility against most backgrounds               |\n",
    "| `1`                        | Thickness of the text stroke                          | Determines how bold the text appears                           |\n",
    "| `cv2.LINE_AA`              | Anti-aliased line type                                | Smooths edges for better readability                           |\n",
    "\n",
    "> **Note:** Using anti-aliasing (`cv2.LINE_AA`) makes the text **look smoother and more professional**.\n",
    "\n",
    "### **Converting BGR to RGB**\n",
    "\n",
    "```python\n",
    "img_rgb = cv2.cvtColor(img_bgr, cv2.COLOR_BGR2RGB)\n",
    "````\n",
    "\n",
    "**Breakdown of components:**\n",
    "\n",
    "| Component           | What it is                                      | Why                                                               |\n",
    "| ------------------- | ----------------------------------------------- | ----------------------------------------------------------------- |\n",
    "| `img_rgb`           | New variable storing the converted image        | Needed in **RGB format** for consistent display (matplotlib, web) |\n",
    "| `cv2.cvtColor()`    | OpenCV function to convert image color spaces   | Converts BGR → RGB                                                |\n",
    "| `img_bgr`           | Input image in **BGR format**                   | Source image with drawn bounding boxes and text                   |\n",
    "| `cv2.COLOR_BGR2RGB` | OpenCV constant specifying BGR → RGB conversion | Ensures red, green, and blue channels are correctly reordered     |\n",
    "\n",
    "> **Note:** OpenCV uses **BGR by default**, while most display libraries (matplotlib, PIL, browsers) expect **RGB**. This conversion prevents color distortion."
   ]
  },
  {
   "cell_type": "markdown",
   "id": "3995458771252922",
   "metadata": {},
   "source": [
    "### Now annotation is also working"
   ]
  },
  {
   "cell_type": "code",
   "execution_count": 9,
   "id": "458a85d88e3af4b6",
   "metadata": {
    "ExecuteTime": {
     "end_time": "2025-09-28T08:24:46.874837Z",
     "start_time": "2025-09-28T08:24:41.437280Z"
    }
   },
   "outputs": [
    {
     "data": {
      "text/plain": [
       "array([[[255, 255, 255],\n",
       "        [255, 255, 255],\n",
       "        [255, 255, 255],\n",
       "        ...,\n",
       "        [255, 255, 255],\n",
       "        [255, 255, 255],\n",
       "        [255, 255, 255]],\n",
       "\n",
       "       [[255, 255, 255],\n",
       "        [255, 255, 255],\n",
       "        [255, 255, 255],\n",
       "        ...,\n",
       "        [255, 255, 255],\n",
       "        [255, 255, 255],\n",
       "        [255, 255, 255]],\n",
       "\n",
       "       [[255, 255, 255],\n",
       "        [255, 255, 255],\n",
       "        [255, 255, 255],\n",
       "        ...,\n",
       "        [255, 255, 255],\n",
       "        [255, 255, 255],\n",
       "        [255, 255, 255]],\n",
       "\n",
       "       ...,\n",
       "\n",
       "       [[255, 255, 255],\n",
       "        [255, 255, 255],\n",
       "        [255, 255, 255],\n",
       "        ...,\n",
       "        [255, 255, 255],\n",
       "        [255, 255, 255],\n",
       "        [255, 255, 255]],\n",
       "\n",
       "       [[255, 255, 255],\n",
       "        [255, 255, 255],\n",
       "        [255, 255, 255],\n",
       "        ...,\n",
       "        [255, 255, 255],\n",
       "        [255, 255, 255],\n",
       "        [255, 255, 255]],\n",
       "\n",
       "       [[255, 255, 255],\n",
       "        [255, 255, 255],\n",
       "        [255, 255, 255],\n",
       "        ...,\n",
       "        [255, 255, 255],\n",
       "        [255, 255, 255],\n",
       "        [255, 255, 255]]], shape=(211, 239, 3), dtype=uint8)"
      ]
     },
     "execution_count": 9,
     "metadata": {},
     "output_type": "execute_result"
    }
   ],
   "source": [
    "annotate_image(\"test.jpg\",detect)"
   ]
  },
  {
   "cell_type": "markdown",
   "id": "d72520880a9469eb",
   "metadata": {},
   "source": [
    "# **LETS CREATE SERVICE LAYER**"
   ]
  },
  {
   "cell_type": "code",
   "execution_count": null,
   "id": "22c7dda29984f8da",
   "metadata": {
    "ExecuteTime": {
     "end_time": "2025-09-28T08:24:47.027565Z",
     "start_time": "2025-09-28T08:24:47.015162Z"
    }
   },
   "outputs": [],
   "source": [
    "import base64\n",
    "import cv2\n",
    "import json\n",
    "from pathlib import Path\n",
    "from fastApi.app.models.yolo_detector import YOLODetector"
   ]
  },
  {
   "cell_type": "markdown",
   "id": "48818b9d0aa50a20",
   "metadata": {},
   "source": [
    "## **Imports Overview**\n",
    "\n",
    "- `base64` → Convert images to **base64 strings** for JSON-safe API responses.\n",
    "- `cv2` → OpenCV for **image processing** (drawing, encoding, color conversion).\n",
    "- `json` → Load JSON files like `reuse_mapping.json` into Python dicts.\n",
    "- `Path` from `pathlib` → Modern, **cross-platform file path management** better than os.path.\n",
    "- `YOLODetector` → Our custom class for **running YOLO detections**."
   ]
  },
  {
   "cell_type": "markdown",
   "id": "165f5377178613b9",
   "metadata": {},
   "source": [
    "# Python `pathlib` Module (`Path`)\n",
    "\n",
    "The `pathlib` module provides **classes to handle filesystem paths** in an object-oriented way. It's modern, readable, and safer than using string paths with `os.path`.\n",
    "\n",
    "---\n",
    "\n",
    "## 1. Importing Path\n",
    "```python\n",
    "from pathlib import Path\n",
    "````\n",
    "\n",
    "* `Path` is the main class representing a **file or directory path**.\n",
    "\n",
    "---\n",
    "\n",
    "## 2. Creating Paths\n",
    "\n",
    "```python\n",
    "p = Path(\"C:/Users/Shivansh/Documents\")  # Absolute path\n",
    "q = Path(\"my_folder/my_file.txt\")        # Relative path\n",
    "```\n",
    "\n",
    "* Handles forward slashes `/` on any OS.\n",
    "\n",
    "---\n",
    "\n",
    "## 3. Checking Path Properties\n",
    "\n",
    "```python\n",
    "p.exists()   # True if path exists\n",
    "p.is_file()  # True if path is a file\n",
    "p.is_dir()   # True if path is a directory\n",
    "```\n",
    "\n",
    "---\n",
    "\n",
    "## 4. Path Operations\n",
    "\n",
    "### Joining Paths\n",
    "\n",
    "```python\n",
    "p = Path(\"C:/Users/Shivansh\")\n",
    "q = p / \"Documents\" / \"file.txt\"\n",
    "print(q)  # C:/Users/Shivansh/Documents/file.txt\n",
    "```\n",
    "\n",
    "* `/` operator joins paths (cleaner than `os.path.join`).\n",
    "\n",
    "### Getting parts of a path\n",
    "\n",
    "```python\n",
    "print(q.name)     # file.txt\n",
    "print(q.stem)     # file\n",
    "print(q.suffix)   # .txt\n",
    "print(q.parent)   # C:/Users/Shivansh/Documents\n",
    "```\n",
    "\n",
    "---\n",
    "\n",
    "## 5. Creating Directories or Files\n",
    "\n",
    "```python\n",
    "p = Path(\"new_folder\")\n",
    "p.mkdir(exist_ok=True)  # Create folder if not exists\n",
    "\n",
    "file_path = p / \"my_file.txt\"\n",
    "file_path.touch()        # Create empty file\n",
    "```\n",
    "\n",
    "---\n",
    "\n",
    "## 6. Iterating Over Files\n",
    "\n",
    "```python\n",
    "p = Path(\"C:/Users/Shivansh/Documents\")\n",
    "for file in p.iterdir():\n",
    "    print(file)\n",
    "```\n",
    "\n",
    "### Filtering by extension\n",
    "\n",
    "```python\n",
    "for file in p.glob(\"*.txt\"):\n",
    "    print(file)\n",
    "```\n",
    "\n",
    "---\n",
    "\n",
    "## 7. Reading and Writing Files\n",
    "\n",
    "```python\n",
    "file = Path(\"example.txt\")\n",
    "\n",
    "file.write_text(\"Hello Python!\")   # Write to file\n",
    "content = file.read_text()         # Read from file\n",
    "print(content)\n",
    "```\n",
    "\n",
    "---\n",
    "\n",
    "## ✅ Advantages of `pathlib` over `os.path`\n",
    "\n",
    "1. Object-oriented – paths are objects with methods.\n",
    "2. Cross-platform safe.\n",
    "3. Cleaner syntax (`/` operator for joining).\n",
    "4. Powerful : iteration, globbing, reading/writing.\n"
   ]
  },
  {
   "cell_type": "markdown",
   "id": "3411cd1a1a12f88",
   "metadata": {},
   "source": [
    "#### **_Path.cwd() gets the current path of our file , then .parent just means go 1 time up to parent_**"
   ]
  },
  {
   "cell_type": "code",
   "execution_count": 11,
   "id": "1efff5742cd115e1",
   "metadata": {
    "ExecuteTime": {
     "end_time": "2025-09-28T08:24:47.076525Z",
     "start_time": "2025-09-28T08:24:47.067034Z"
    }
   },
   "outputs": [
    {
     "data": {
      "text/plain": [
       "WindowsPath('D:/PycharmProjects/Eco_Vision/Backend/app/data/reuse_mapping.json')"
      ]
     },
     "execution_count": 11,
     "metadata": {},
     "output_type": "execute_result"
    }
   ],
   "source": [
    "Path.cwd().parent / \"app\" / \"data\" / \"reuse_mapping.json\""
   ]
  },
  {
   "cell_type": "code",
   "execution_count": 12,
   "id": "b568164a6728e220",
   "metadata": {
    "ExecuteTime": {
     "end_time": "2025-09-28T08:24:47.187467Z",
     "start_time": "2025-09-28T08:24:47.180923Z"
    }
   },
   "outputs": [],
   "source": [
    "data_path = Path.cwd().parent / \"app\" / \"data\" / \"reuse_mapping.json\"\n",
    "with open(data_path, \"r\") as f:\n",
    "    reuse_mapping = json.load(f)"
   ]
  },
  {
   "cell_type": "markdown",
   "id": "3be376b53c574a0d",
   "metadata": {},
   "source": [
    "#### Now we add reuse tips using below fn and return detection list of dict + annonated images in base64 format"
   ]
  },
  {
   "cell_type": "code",
   "execution_count": 13,
   "id": "435d13f9686cd0a4",
   "metadata": {
    "ExecuteTime": {
     "end_time": "2025-09-28T08:24:47.273971Z",
     "start_time": "2025-09-28T08:24:47.266997Z"
    }
   },
   "outputs": [],
   "source": [
    "def run_detection(image_path: str, conf: float = 0.5) -> dict:\n",
    "\n",
    "    detections = detect_objects(image_path, conf=conf)  # get raw detections from YOLO.\n",
    "\n",
    "    for d in detections:\n",
    "        cls = d[\"class_name\"]\n",
    "        d[\"reuse_tip\"] = reuse_mapping.get(cls, \"No tip available\")\n",
    "\n",
    "    # Annotate\n",
    "    annotated_img = annotate_image(image_path, detections)\n",
    "\n",
    "    # Step 4: Convert annotated image to base64 (for JSON return)\n",
    "    _, buffer = cv2.imencode(\".jpg\", cv2.cvtColor(annotated_img, cv2.COLOR_RGB2BGR))\n",
    "    img_base64 = base64.b64encode(buffer).decode(\"utf-8\")\n",
    "\n",
    "    return {\n",
    "        \"detections\": detections,\n",
    "        \"annotated_image\": img_base64,\n",
    "        \"total_items\": len(detections)\n",
    "    }"
   ]
  },
  {
   "cell_type": "markdown",
   "id": "536c4c1988c2c8a",
   "metadata": {},
   "source": [
    "#### _Here u can see that imencode() gives us tuple._"
   ]
  },
  {
   "cell_type": "code",
   "execution_count": 14,
   "id": "5f363f693c582695",
   "metadata": {
    "ExecuteTime": {
     "end_time": "2025-09-28T08:24:47.314913Z",
     "start_time": "2025-09-28T08:24:47.300267Z"
    }
   },
   "outputs": [
    {
     "name": "stdout",
     "output_type": "stream",
     "text": [
      "(True, array([255, 216, 255, 224,   0,  16,  74,  70,  73,  70,   0,   1,   1,   0,   0,   1,   0,   1,   0,   0, 255, 219,   0,  67,   0,   2,   1,   1,   1,   1,   1,   2,   1,   1,   1,   2,   2,   2,   2,   2,   4,   3,   2,   2,   2,   2,   5,   4,   4,   3,   4,   6,   5,   6,   6,   6,   5,   6,   6,   6,   7,   9,\n",
      "         8,   6,   7,   9,   7,   6,   6,   8,  11,   8,   9,  10,  10,  10,  10,  10,   6,   8,  11,  12,  11,  10,  12,   9,  10,  10,  10, 255, 219,   0,  67,   1,   2,   2,   2,   2,   2,   2,   5,   3,   3,   5,  10,   7,   6,   7,  10,  10,  10,  10,  10,  10,  10,  10,  10,  10,  10,  10,  10,  10,  10,  10,\n",
      "        10,  10,  10,  10,  10,  10,  10,  10,  10,  10,  10,  10,  10,  10,  10,  10,  10,  10,  10,  10,  10,  10,  10,  10,  10,  10,  10,  10,  10,  10,  10,  10,  10,  10, 255, 192,   0,  17,   8,   0, 100,   0, 100,   3,   1,  34,   0,   2,  17,   1,   3,  17,   1, 255, 196,   0,  31,   0,   0,   1,   5,   1,\n",
      "         1,   1,   1,   1,   1,   0,   0,   0,   0,   0,   0,   0,   0,   1,   2,   3,   4,   5,   6,   7,   8,   9,  10,  11, 255, 196,   0, 181,  16,   0,   2,   1,   3,   3,   2,   4,   3,   5,   5,   4,   4,   0,   0,   1, 125,   1,   2,   3,   0,   4,  17,   5,  18,  33,  49,  65,   6,  19,  81,  97,   7,  34,\n",
      "       113,  20,  50, 129, 145, 161,   8,  35,  66, 177, 193,  21,  82, 209, 240,  36,  51,  98, 114, 130,   9,  10,  22,  23,  24,  25,  26,  37,  38,  39,  40,  41,  42,  52,  53,  54,  55,  56,  57,  58,  67,  68,  69,  70,  71,  72,  73,  74,  83,  84,  85,  86,  87,  88,  89,  90,  99, 100, 101, 102, 103, 104,\n",
      "       105, 106, 115, 116, 117, 118, 119, 120, 121, 122, 131, 132, 133, 134, 135, 136, 137, 138, 146, 147, 148, 149, 150, 151, 152, 153, 154, 162, 163, 164, 165, 166, 167, 168, 169, 170, 178, 179, 180, 181, 182, 183, 184, 185, 186, 194, 195, 196, 197, 198, 199, 200, 201, 202, 210, 211, 212, 213, 214, 215, 216, 217,\n",
      "       218, 225, 226, 227, 228, 229, 230, 231, 232, 233, 234, 241, 242, 243, 244, 245, 246, 247, 248, 249, 250, 255, 196,   0,  31,   1,   0,   3,   1,   1,   1,   1,   1,   1,   1,   1,   1,   0,   0,   0,   0,   0,   0,   1,   2,   3,   4,   5,   6,   7,   8,   9,  10,  11, 255, 196,   0, 181,  17,   0,   2,   1,\n",
      "         2,   4,   4,   3,   4,   7,   5,   4,   4,   0,   1,   2, 119,   0,   1,   2,   3,  17,   4,   5,  33,  49,   6,  18,  65,  81,   7,  97, 113,  19,  34,  50, 129,   8,  20,  66, 145, 161, 177, 193,   9,  35,  51,  82, 240,  21,  98, 114, 209,  10,  22,  36,  52, 225,  37, 241,  23,  24,  25,  26,  38,  39,\n",
      "        40,  41,  42,  53,  54,  55,  56,  57,  58,  67,  68,  69,  70,  71,  72,  73,  74,  83,  84,  85,  86,  87,  88,  89,  90,  99, 100, 101, 102, 103, 104, 105, 106, 115, 116, 117, 118, 119, 120, 121, 122, 130, 131, 132, 133, 134, 135, 136, 137, 138, 146, 147, 148, 149, 150, 151, 152, 153, 154, 162, 163, 164,\n",
      "       165, 166, 167, 168, 169, 170, 178, 179, 180, 181, 182, 183, 184, 185, 186, 194, 195, 196, 197, 198, 199, 200, 201, 202, 210, 211, 212, 213, 214, 215, 216, 217, 218, 226, 227, 228, 229, 230, 231, 232, 233, 234, 242, 243, 244, 245, 246, 247, 248, 249, 250, 255, 218,   0,  12,   3,   1,   0,   2,  17,   3,  17,\n",
      "         0,  63,   0, 248, 190, 138,  40, 175, 229,  51, 253, 252,  10,  40, 162, 128,  10,  40, 162, 128,  10,  40, 162, 128,  10,  40, 162, 128,  10,  40, 162, 128,  10,  40, 162, 128,  10,  40, 162, 128,  10,  40, 162, 128,  10,  40, 162, 128,  10,  40, 162, 128,  10,  40, 162, 128,  10,  40, 162, 128,  10,  40,\n",
      "       162, 128,  10,  40, 162, 128,  10,  40, 162, 128,  10,  40, 162, 128,  10,  40, 162, 128,  10,  40, 162, 128,  10,  40, 162, 128,  10,  40, 162, 128,  10,  40, 162, 128,  10,  40, 162, 128,  10,  40, 162, 128,  10,  40, 162, 128,  10,  40, 162, 128,  10,  40, 162, 128,  10,  40, 162, 128,  10,  40, 162, 128,\n",
      "        10,  40, 162, 128,  10,  40, 162, 128,  10,  40, 162, 128,  10,  40, 162, 128,  10,  40, 162, 128,  10,  40, 162, 128,  10,  40, 162, 128,  10,  40, 162, 128,  10,  40, 162, 128,  10,  40, 162, 128,  10,  40, 162, 128,  10,  40, 162, 128,  10,  40, 162, 128,  10,  40, 162, 128,  10,  40, 162, 128,  10,  40,\n",
      "       162, 128,  10,  40, 162, 128,  10,  40, 162, 128,  10,  40, 162, 128,  10,  40, 162, 128,  63, 255, 217], dtype=uint8))\n"
     ]
    }
   ],
   "source": [
    "import numpy as np\n",
    "\n",
    "# 1. Create a dummy image (RGB)\n",
    "img = np.zeros((100, 100, 3), dtype=np.uint8)\n",
    "img[:] = [255, 0, 0]  # fill with red\n",
    "\n",
    "# 2. Encode the image to JPG in memory\n",
    "buffer = cv2.imencode(\".jpg\", cv2.cvtColor(img, cv2.COLOR_RGB2BGR)) #its a tuple (ecoding is succeeded or not , nd.array )\n",
    "print(buffer)"
   ]
  },
  {
   "cell_type": "markdown",
   "id": "f1ae798d8fb1e8ef",
   "metadata": {},
   "source": [
    "## **Converting Annotated Image to Base64 for JSON**\n",
    "\n",
    "**Step 1:** Convert RGB → BGR\n",
    "```python\n",
    "cv2.cvtColor(annotated_img, cv2.COLOR_RGB2BGR)\n",
    "````\n",
    "\n",
    "* OpenCV expects **BGR** internally.\n",
    "* Ensures colors display correctly when encoding.\n",
    "\n",
    "---\n",
    "\n",
    "**Step 2:** Encode as JPEG\n",
    "\n",
    "```python\n",
    "_, buffer = cv2.imencode(\".jpg\", img_bgr)\n",
    "```\n",
    "\n",
    "* Converts the image array into **JPEG bytes**.\n",
    "* `_` → status (ignored), `buffer` → byte array of the image.\n",
    "\n",
    "---\n",
    "\n",
    "**Step 3:** Convert bytes → base64 string\n",
    "\n",
    "```python\n",
    "img_base64 = base64.b64encode(buffer).decode(\"utf-8\")\n",
    "```\n",
    "\n",
    "* `base64.b64encode(buffer)` → bytes → safe for JSON.\n",
    "* `.decode(\"utf-8\")` → converts bytes to a **normal Python string**.\n",
    "\n",
    "---\n",
    "\n",
    "**Why:**\n",
    "\n",
    "* The frontend can **display the image directly** without saving a file to disk.\n",
    "* Makes sending images in **API responses easy and safe**."
   ]
  },
  {
   "cell_type": "code",
   "execution_count": 15,
   "id": "ff59fdc24246ca5f",
   "metadata": {
    "ExecuteTime": {
     "end_time": "2025-09-28T08:24:47.377529Z",
     "start_time": "2025-09-28T08:24:47.372234Z"
    }
   },
   "outputs": [
    {
     "name": "stdout",
     "output_type": "stream",
     "text": [
      "/9j/4AAQSkZJRgABAQAAAQABAAD/2wBDAAIBAQEBAQIBAQECAgICAgQDAgICAgUEBAMEBgUGBgYFBgYGBwkIBgcJBwYGCAsICQoKCgoKBggLDAsKDAkKCgr/2wBDAQICAgICAgUDAwUKBwYHCgoKCgoKCgoKCgoKCgoKCgoKCgoKCgoKCgoKCgoKCgoKCgoKCgoKCgoKCgoKCgoKCgr/wAARCABkAGQDASIAAhEBAxEB/8QAHwAAAQUBAQEBAQEAAAAAAAAAAAECAwQFBgcICQoL/8QAtRAAAgEDAwIEAwUFBAQAAAF9AQIDAAQRBRIhMUEGE1FhByJxFDKBkaEII0KxwRVS0fAkM2JyggkKFhcYGRolJicoKSo0NTY3ODk6Q0RFRkdISUpTVFVWV1hZWmNkZWZnaGlqc3R1dnd4eXqDhIWGh4iJipKTlJWWl5iZmqKjpKWmp6ipqrKztLW2t7i5usLDxMXGx8jJytLT1NXW19jZ2uHi4+Tl5ufo6erx8vP09fb3+Pn6/8QAHwEAAwEBAQEBAQEBAQAAAAAAAAECAwQFBgcICQoL/8QAtREAAgECBAQDBAcFBAQAAQJ3AAECAxEEBSExBhJBUQdhcRMiMoEIFEKRobHBCSMzUvAVYnLRChYkNOEl8RcYGRomJygpKjU2Nzg5OkNERUZHSElKU1RVVldYWVpjZGVmZ2hpanN0dXZ3eHl6goOEhYaHiImKkpOUlZaXmJmaoqOkpaanqKmqsrO0tba3uLm6wsPExcbHyMnK0tPU1dbX2Nna4uPk5ebn6Onq8vP09fb3+Pn6/9oADAMBAAIRAxEAPwD4vooor+Uz/fwKKKKACiiigAooooAKKKKACiiigAooooAKKKKACiiigAooooAKKKKACiiigAooooAKKKKACiiigAooooAKKKKACiiigAooooAKKKKACiiigAooooAKKKKACiiigAooooAKKKKACiiigAooooAKKKKACiiigAooooAKKKKACiiigAooooAKKKKACiiigAooooAKKKKACiiigAooooAKKKKACiiigAooooAKKKKACiiigAooooAKKKKACiiigAooooA//9k=\n"
     ]
    }
   ],
   "source": [
    "# 3. Convert to base64 string\n",
    "img_base64 = base64.b64encode(buffer[1]).decode(\"utf-8\")\n",
    "print(img_base64)"
   ]
  },
  {
   "cell_type": "markdown",
   "id": "48865392a8c40c5b",
   "metadata": {},
   "source": [
    "### **Output**\n",
    "\n",
    "We get **two things**:\n",
    "1. **List of dicts** → enriched with reuse tips.\n",
    "2. **Base64 annotated image** → ready for JSON response."
   ]
  },
  {
   "cell_type": "code",
   "execution_count": 16,
   "id": "53b09193e0ca910b",
   "metadata": {
    "ExecuteTime": {
     "end_time": "2025-09-28T08:24:50.208399Z",
     "start_time": "2025-09-28T08:24:47.492348Z"
    }
   },
   "outputs": [
    {
     "name": "stdout",
     "output_type": "stream",
     "text": [
      "\n",
      "image 1/1 D:\\PycharmProjects\\Eco_Vision\\Backend\\ML notebook\\test3.jpg: 448x640 1 banana, 3 apples, 520.7ms\n",
      "Speed: 4.3ms preprocess, 520.7ms inference, 3.1ms postprocess per image at shape (1, 3, 448, 640)\n"
     ]
    },
    {
     "data": {
      "text/plain": [
       "{'detections': [{'class_id': 46,\n",
       "   'class_name': 'banana',\n",
       "   'confidence': {'score': 0.9417, 'percent': 94.2},\n",
       "   'bbox': [116, 38, 431, 368],\n",
       "   'reuse_tip': 'No tip available'},\n",
       "  {'class_id': 47,\n",
       "   'class_name': 'apple',\n",
       "   'confidence': {'score': 0.9411, 'percent': 94.1},\n",
       "   'bbox': [398, 208, 567, 380],\n",
       "   'reuse_tip': 'No tip available'},\n",
       "  {'class_id': 47,\n",
       "   'class_name': 'apple',\n",
       "   'confidence': {'score': 0.8789, 'percent': 87.9},\n",
       "   'bbox': [400, 70, 563, 221],\n",
       "   'reuse_tip': 'No tip available'},\n",
       "  {'class_id': 47,\n",
       "   'class_name': 'apple',\n",
       "   'confidence': {'score': 0.8495, 'percent': 85.0},\n",
       "   'bbox': [529, 192, 606, 333],\n",
       "   'reuse_tip': 'No tip available'}],\n",
       " 'annotated_image': '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',\n",
       " 'total_items': 4}"
      ]
     },
     "execution_count": 16,
     "metadata": {},
     "output_type": "execute_result"
    }
   ],
   "source": [
    "run_detection(\"test3.jpg\", conf=0.5)"
   ]
  },
  {
   "cell_type": "markdown",
   "id": "162be1d6fd93e796",
   "metadata": {},
   "source": [
    "### **Base64 Conversion in `detection_service.py`**\n",
    "\n",
    "```python\n",
    "_, buffer = cv2.imencode(\".jpg\", cv2.cvtColor(annotated_img, cv2.COLOR_RGB2BGR))\n",
    "img_base64 = base64.b64encode(buffer).decode(\"utf-8\")\n",
    "````\n",
    "\n",
    "* `annotated_img` → RGB array from `yolo_detector`\n",
    "* `cv2.cvtColor(..., cv2.COLOR_RGB2BGR)` → convert to BGR for `cv2.imencode()`\n",
    "* `cv2.imencode(\".jpg\", ...)` → encode BGR image as JPEG bytes\n",
    "* `base64.b64encode(buffer)` → bytes → base64 string for JSON\n",
    "\n",
    "**Key point:**\n",
    "\n",
    "* Base64 JPEG string **doesn’t care about BGR/RGB**; frontend will display it correctly.\n",
    "* BGR → RGB conversion only matters when working with **raw NumPy arrays**, not encoded JPEGs."
   ]
  },
  {
   "cell_type": "markdown",
   "id": "812f634ccdb076a9",
   "metadata": {},
   "source": [
    "# **LETS WORK ON API LAYER**"
   ]
  },
  {
   "cell_type": "code",
   "execution_count": 17,
   "id": "b1bfb8a5b3d734c0",
   "metadata": {
    "ExecuteTime": {
     "end_time": "2025-09-28T08:24:59.031938Z",
     "start_time": "2025-09-28T08:24:50.373057Z"
    }
   },
   "outputs": [
    {
     "name": "stdout",
     "output_type": "stream",
     "text": [
      "Requirement already satisfied: fastapi in d:\\pycharmprojects\\eco_vision\\backend\\venv\\lib\\site-packages (0.117.1)\n",
      "Requirement already satisfied: starlette<0.49.0,>=0.40.0 in d:\\pycharmprojects\\eco_vision\\backend\\venv\\lib\\site-packages (from fastapi) (0.48.0)\n",
      "Requirement already satisfied: pydantic!=1.8,!=1.8.1,!=2.0.0,!=2.0.1,!=2.1.0,<3.0.0,>=1.7.4 in d:\\pycharmprojects\\eco_vision\\backend\\venv\\lib\\site-packages (from fastapi) (2.11.9)\n",
      "Requirement already satisfied: typing-extensions>=4.8.0 in d:\\pycharmprojects\\eco_vision\\backend\\venv\\lib\\site-packages (from fastapi) (4.15.0)\n",
      "Requirement already satisfied: annotated-types>=0.6.0 in d:\\pycharmprojects\\eco_vision\\backend\\venv\\lib\\site-packages (from pydantic!=1.8,!=1.8.1,!=2.0.0,!=2.0.1,!=2.1.0,<3.0.0,>=1.7.4->fastapi) (0.7.0)\n",
      "Requirement already satisfied: pydantic-core==2.33.2 in d:\\pycharmprojects\\eco_vision\\backend\\venv\\lib\\site-packages (from pydantic!=1.8,!=1.8.1,!=2.0.0,!=2.0.1,!=2.1.0,<3.0.0,>=1.7.4->fastapi) (2.33.2)\n",
      "Requirement already satisfied: typing-inspection>=0.4.0 in d:\\pycharmprojects\\eco_vision\\backend\\venv\\lib\\site-packages (from pydantic!=1.8,!=1.8.1,!=2.0.0,!=2.0.1,!=2.1.0,<3.0.0,>=1.7.4->fastapi) (0.4.1)\n",
      "Requirement already satisfied: anyio<5,>=3.6.2 in d:\\pycharmprojects\\eco_vision\\backend\\venv\\lib\\site-packages (from starlette<0.49.0,>=0.40.0->fastapi) (4.11.0)\n",
      "Requirement already satisfied: idna>=2.8 in d:\\pycharmprojects\\eco_vision\\backend\\venv\\lib\\site-packages (from anyio<5,>=3.6.2->starlette<0.49.0,>=0.40.0->fastapi) (3.10)\n",
      "Requirement already satisfied: sniffio>=1.1 in d:\\pycharmprojects\\eco_vision\\backend\\venv\\lib\\site-packages (from anyio<5,>=3.6.2->starlette<0.49.0,>=0.40.0->fastapi) (1.3.1)\n"
     ]
    },
    {
     "name": "stderr",
     "output_type": "stream",
     "text": [
      "\n",
      "[notice] A new release of pip is available: 25.0.1 -> 25.2\n",
      "[notice] To update, run: D:\\PycharmProjects\\Eco_Vision\\backend\\venv\\Scripts\\python.exe -m pip install --upgrade pip\n"
     ]
    },
    {
     "name": "stdout",
     "output_type": "stream",
     "text": [
      "Requirement already satisfied: uvicorn[standard] in d:\\pycharmprojects\\eco_vision\\backend\\venv\\lib\\site-packages (0.37.0)\n",
      "Requirement already satisfied: click>=7.0 in d:\\pycharmprojects\\eco_vision\\backend\\venv\\lib\\site-packages (from uvicorn[standard]) (8.3.0)\n",
      "Requirement already satisfied: h11>=0.8 in d:\\pycharmprojects\\eco_vision\\backend\\venv\\lib\\site-packages (from uvicorn[standard]) (0.16.0)\n",
      "Requirement already satisfied: colorama>=0.4 in d:\\pycharmprojects\\eco_vision\\backend\\venv\\lib\\site-packages (from uvicorn[standard]) (0.4.6)\n",
      "Requirement already satisfied: httptools>=0.6.3 in d:\\pycharmprojects\\eco_vision\\backend\\venv\\lib\\site-packages (from uvicorn[standard]) (0.6.4)\n",
      "Requirement already satisfied: python-dotenv>=0.13 in d:\\pycharmprojects\\eco_vision\\backend\\venv\\lib\\site-packages (from uvicorn[standard]) (1.1.1)\n",
      "Requirement already satisfied: pyyaml>=5.1 in d:\\pycharmprojects\\eco_vision\\backend\\venv\\lib\\site-packages (from uvicorn[standard]) (6.0.2)\n",
      "Requirement already satisfied: watchfiles>=0.13 in d:\\pycharmprojects\\eco_vision\\backend\\venv\\lib\\site-packages (from uvicorn[standard]) (1.1.0)\n",
      "Requirement already satisfied: websockets>=10.4 in d:\\pycharmprojects\\eco_vision\\backend\\venv\\lib\\site-packages (from uvicorn[standard]) (15.0.1)\n",
      "Requirement already satisfied: anyio>=3.0.0 in d:\\pycharmprojects\\eco_vision\\backend\\venv\\lib\\site-packages (from watchfiles>=0.13->uvicorn[standard]) (4.11.0)\n",
      "Requirement already satisfied: idna>=2.8 in d:\\pycharmprojects\\eco_vision\\backend\\venv\\lib\\site-packages (from anyio>=3.0.0->watchfiles>=0.13->uvicorn[standard]) (3.10)\n",
      "Requirement already satisfied: sniffio>=1.1 in d:\\pycharmprojects\\eco_vision\\backend\\venv\\lib\\site-packages (from anyio>=3.0.0->watchfiles>=0.13->uvicorn[standard]) (1.3.1)\n"
     ]
    },
    {
     "name": "stderr",
     "output_type": "stream",
     "text": [
      "\n",
      "[notice] A new release of pip is available: 25.0.1 -> 25.2\n",
      "[notice] To update, run: D:\\PycharmProjects\\Eco_Vision\\backend\\venv\\Scripts\\python.exe -m pip install --upgrade pip\n"
     ]
    },
    {
     "name": "stdout",
     "output_type": "stream",
     "text": [
      "Requirement already satisfied: python-multipart in d:\\pycharmprojects\\eco_vision\\backend\\venv\\lib\\site-packages (0.0.20)\n"
     ]
    },
    {
     "name": "stderr",
     "output_type": "stream",
     "text": [
      "\n",
      "[notice] A new release of pip is available: 25.0.1 -> 25.2\n",
      "[notice] To update, run: D:\\PycharmProjects\\Eco_Vision\\backend\\venv\\Scripts\\python.exe -m pip install --upgrade pip\n"
     ]
    }
   ],
   "source": [
    "import sys\n",
    "!{sys.executable} -m pip install fastapi\n",
    "!{sys.executable} -m pip install \"uvicorn[standard]\"\n",
    "!{sys.executable} -m pip install python-multipart"
   ]
  },
  {
   "cell_type": "markdown",
   "id": "20ba05ed627140a1",
   "metadata": {},
   "source": [
    "## **Imports (API / Detection)**\n",
    "\n",
    "1. `from pathlib import Path` → Modern, cross-platform **Path object** for file paths. Safer than strings + `os.path.join`.\n",
    "2. `import base64` → Encode images to **base64 strings** for JSON; frontend can decode to display annotated images.\n",
    "3. `from fastapi import ...` → FastAPI app, handle uploads (`File`, `UploadFile`), form fields (`Form`), and raise HTTP errors (`HTTPException`).\n",
    "4. `from fastapi.middleware.cors import CORSMiddleware` → Handle **CORS** for frontend requests from different origins.\n",
    "5. `from fastapi.responses import JSONResponse` → Return structured JSON responses.\n",
    "6. `import cv2` → OpenCV for image processing: annotate images, convert RGB↔BGR, encode JPEG.\n",
    "7. `import os` → Environment variables and OS operations.\n",
    "8. `from fastApi.app.services.detection_service import DetectionService` → Custom service wrapping YOLO, reuse tips, and image annotation.\n",
    "9. `import tempfile` → Temporary files/directories; safer than saving uploads in project folder."
   ]
  },
  {
   "cell_type": "code",
   "execution_count": null,
   "id": "d73eee4b0c14fd48",
   "metadata": {
    "ExecuteTime": {
     "end_time": "2025-09-28T08:24:59.603062Z",
     "start_time": "2025-09-28T08:24:59.044184Z"
    }
   },
   "outputs": [],
   "source": [
    "from pathlib import Path\n",
    "import base64\n",
    "from fastapi import FastAPI, File, UploadFile, Form, HTTPException\n",
    "from fastapi.middleware.cors import CORSMiddleware\n",
    "from fastapi.responses import JSONResponse\n",
    "import cv2\n",
    "import os\n",
    "from fastApi.app.services.detection_service import DetectionService\n",
    "import tempfile"
   ]
  },
  {
   "cell_type": "code",
   "execution_count": 19,
   "id": "7496389551ec789a",
   "metadata": {
    "ExecuteTime": {
     "end_time": "2025-09-28T08:24:59.650546Z",
     "start_time": "2025-09-28T08:24:59.642326Z"
    }
   },
   "outputs": [],
   "source": [
    "# Initialize FastAPI app\n",
    "app = FastAPI(title=\"Reusable Item Detector API\")"
   ]
  },
  {
   "cell_type": "markdown",
   "id": "2d4854afd46680b5",
   "metadata": {},
   "source": [
    "**Explanation:**\n",
    "\n",
    "1. **Allowed Origins:**\n",
    "\n",
    "```python\n",
    "allowed_origins = [origin.strip() for origin in os.getenv(\"ALLOWED_ORIGINS\", \"http://localhost:3000\").split(\",\")]\n",
    "```\n",
    "\n",
    "* Reads `ALLOWED_ORIGINS` environment variable (e.g., `\"http://localhost:3000,http://example.com\"`).\n",
    "* Splits into a **list of domains** and strips extra spaces.\n",
    "* Only these domains can call your API.\n",
    "\n",
    "2. **Add Middleware:**\n",
    "\n",
    "```python\n",
    "app.add_middleware(\n",
    "    CORSMiddleware,\n",
    "    allow_origins=allowed_origins,\n",
    "    allow_credentials=True,\n",
    "    allow_methods=[\"*\"],\n",
    "    allow_headers=[\"*\"]\n",
    ")\n",
    "```\n",
    "\n",
    "* Adds **CORS support** to FastAPI.\n",
    "* `allow_credentials=True` → allows cookies/auth headers.\n",
    "* `allow_methods=[\"*\"]` → all HTTP methods allowed.\n",
    "* `allow_headers=[\"*\"]` → all request headers allowed.\n",
    "\n",
    "**Purpose:** Prevents **CORS errors** when a frontend (like React or JS) on another domain tries to call the API."
   ]
  },
  {
   "cell_type": "code",
   "execution_count": 20,
   "id": "13c04cc16e60fe6a",
   "metadata": {
    "ExecuteTime": {
     "end_time": "2025-09-28T08:24:59.696048Z",
     "start_time": "2025-09-28T08:24:59.689544Z"
    }
   },
   "outputs": [
    {
     "name": "stdout",
     "output_type": "stream",
     "text": [
      "['http://localhost:3000', 'http://127.0.0.1:3000']\n"
     ]
    }
   ],
   "source": [
    "allowed_origins = (\n",
    "    [origin.strip() for origin in (os.getenv(\"ALLOWED_ORIGINS\", \"http://localhost:3000\").split(\",\"))]\n",
    ")\n",
    "print(allowed_origins)"
   ]
  },
  {
   "cell_type": "code",
   "execution_count": 21,
   "id": "7892d42a6463c684",
   "metadata": {
    "ExecuteTime": {
     "end_time": "2025-09-28T08:24:59.769860Z",
     "start_time": "2025-09-28T08:24:59.762755Z"
    }
   },
   "outputs": [
    {
     "name": "stdout",
     "output_type": "stream",
     "text": [
      "<function FastAPI.middleware.<locals>.decorator at 0x000001BE9868CFE0> <function FastAPI.middleware.<locals>.decorator at 0x000001BE9868CF40>\n"
     ]
    }
   ],
   "source": [
    "app.add_middleware(\n",
    "    CORSMiddleware,\n",
    "    allow_origins=allowed_origins,\n",
    "    allow_credentials=True,\n",
    "    allow_methods=[\"*\"],\n",
    "    allow_headers=[\"*\"]\n",
    ")\n",
    "print(app.middleware(CORSMiddleware),app.middleware(allowed_origins))"
   ]
  },
  {
   "cell_type": "code",
   "execution_count": 22,
   "id": "28c90f1857e0567a",
   "metadata": {
    "ExecuteTime": {
     "end_time": "2025-09-28T08:24:59.972069Z",
     "start_time": "2025-09-28T08:24:59.825725Z"
    }
   },
   "outputs": [
    {
     "name": "stdout",
     "output_type": "stream",
     "text": [
      "[YOLODetector] Loaded model: yolo12s.pt on cpu\n"
     ]
    }
   ],
   "source": [
    "# Initialize service layers\n",
    "detection_service = DetectionService()"
   ]
  },
  {
   "cell_type": "code",
   "execution_count": 23,
   "id": "3dd79b87d5d3d527",
   "metadata": {
    "ExecuteTime": {
     "end_time": "2025-09-28T08:25:00.006118Z",
     "start_time": "2025-09-28T08:25:00.000160Z"
    }
   },
   "outputs": [],
   "source": [
    "# Health check endpoint\n",
    "\n",
    "@app.get(\"/health\")\n",
    "async def health():\n",
    "    \"\"\"\n",
    "    Simple health check endpoint.\n",
    "    \"\"\"\n",
    "    return {\"status\": \"healthy\"}"
   ]
  },
  {
   "cell_type": "markdown",
   "id": "a5101cb420a202f1",
   "metadata": {},
   "source": [
    "async def health() → asynchronous function for handling multiple requests concurrently."
   ]
  },
  {
   "cell_type": "code",
   "execution_count": 24,
   "id": "c54e7fd2a56e6296",
   "metadata": {
    "ExecuteTime": {
     "end_time": "2025-09-28T08:25:00.057009Z",
     "start_time": "2025-09-28T08:25:00.045571Z"
    }
   },
   "outputs": [],
   "source": [
    "# Detection endpoint\n",
    "\n",
    "@app.post(\"/detect\")\n",
    "async def detect(\n",
    "    file: UploadFile = File(...),\n",
    "    confidence: float = Form(0.5)\n",
    "):\n",
    "    \"\"\"\n",
    "    Upload an image, run detection and return JSON response with detections and annotated image.\n",
    "    \"\"\"\n",
    "\n",
    "    #  Validate uploaded file\n",
    "    if not file.content_type.startswith(\"image/\"):\n",
    "        raise HTTPException(status_code=400, detail=\"Uploaded file must be an image\")\n",
    "\n",
    "    #  Save uploaded file temporarily using tempfile\n",
    "    temp_dir = Path(tempfile.gettempdir())\n",
    "    temp_path = temp_dir / f\"tmp_{file.filename}\"\n",
    "    try:\n",
    "        with temp_path.open(\"wb\") as f:\n",
    "            f.write(await file.read())\n",
    "\n",
    "        #  Run detection\n",
    "        result = detection_service.run_detection(str(temp_path), confidence)\n",
    "\n",
    "        #  Convert annotated image to base64 (if available)\n",
    "        annotated_b64 = None\n",
    "        if result.get(\"annotated_image\") is not None:\n",
    "            # OpenCV expects BGR for encoding\n",
    "            bgr_img = cv2.cvtColor(result[\"annotated_image\"], cv2.COLOR_RGB2BGR)\n",
    "            _, buf = cv2.imencode(\".jpg\", bgr_img)\n",
    "            annotated_b64 = base64.b64encode(buf).decode(\"utf-8\")\n",
    "\n",
    "        #  Build JSON response\n",
    "        resp = {\n",
    "            \"success\": True,\n",
    "            \"detections\": result.get(\"detections\", []),\n",
    "            \"annotated_image\": annotated_b64,\n",
    "            \"total_items\": result.get(\"total_items\", 0) #defaults to 0 if key is missing.\n",
    "        }\n",
    "\n",
    "        return JSONResponse(content=resp)\n",
    "\n",
    "    finally:\n",
    "        # Cleanup temporary file\n",
    "        if temp_path.exists():\n",
    "            temp_path.unlink()"
   ]
  },
  {
   "cell_type": "markdown",
   "id": "4bbec1f760ce71b",
   "metadata": {},
   "source": [
    "**Parameters:**\n",
    "\n",
    "   * `file: UploadFile = File(...)` → required uploaded image file with access to name, type, content.\n",
    "   * `confidence: float = Form(0.5)` → optional threshold for detection confidence.\n",
    "\n",
    "**Temporary saving:**\n",
    "\n",
    "* `temp_dir = Path(tempfile.gettempdir())` → OS temp folder.\n",
    "* `temp_path = temp_dir / f\"tmp_{file.filename}\"` → safe temp file path.\n",
    "* `with temp_path.open(\"wb\") as f: f.write(await file.read())` → writes uploaded bytes asynchronously.\n",
    "\n",
    "**Return JSON Response**\n",
    "\n",
    "* Converts Python dict `resp` into **JSON**.\n",
    "* Sends it to the client with `Content-Type: application/json`.\n",
    "* FastAPI automatic sets **HTTP 200 OK** for successful responses.\n",
    "\n",
    "\n",
    "**Temporary File Cleanup**\n",
    "\n",
    "**Delete file:** `temp_path.unlink()` removes the temporary file safely using `Path` object."
   ]
  },
  {
   "cell_type": "code",
   "execution_count": null,
   "id": "2578afecaff8cc5",
   "metadata": {
    "ExecuteTime": {
     "end_time": "2025-09-28T08:25:00.073809Z",
     "start_time": "2025-09-28T08:25:00.071329Z"
    }
   },
   "outputs": [],
   "source": []
  }
 ],
 "metadata": {
  "kernelspec": {
   "display_name": "Python (backend-env)",
   "language": "python",
   "name": "backend-env"
  },
  "language_info": {
   "codemirror_mode": {
    "name": "ipython",
    "version": 2
   },
   "file_extension": ".py",
   "mimetype": "text/x-python",
   "name": "python",
   "nbconvert_exporter": "python",
   "pygments_lexer": "ipython2",
   "version": "2.7.6"
  }
 },
 "nbformat": 4,
 "nbformat_minor": 5
}
